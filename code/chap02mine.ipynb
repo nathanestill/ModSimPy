{
 "cells": [
  {
   "cell_type": "markdown",
   "metadata": {},
   "source": [
    "# Modeling and Simulation in Python\n",
    "\n",
    "Chapter 2: Simulation\n",
    "\n",
    "Copyright 2017 Allen Downey\n",
    "\n",
    "License: [Creative Commons Attribution 4.0 International](https://creativecommons.org/licenses/by/4.0)\n"
   ]
  },
  {
   "cell_type": "markdown",
   "metadata": {},
   "source": [
    "We'll start with the same code we saw last time: the magic command that tells Jupyter where to put the figures, and the import statement that gets the functions defined in the `modsim` module."
   ]
  },
  {
   "cell_type": "code",
   "execution_count": 23,
   "metadata": {},
   "outputs": [],
   "source": [
    "# If you want the figures to appear in the notebook, \n",
    "# and you want to interact with them, use\n",
    "# %matplotlib notebook\n",
    "\n",
    "# If you want the figures to appear in the notebook, \n",
    "# and you don't want to interact with them, use\n",
    "# %matplotlib inline\n",
    "\n",
    "# If you want the figures to appear in separate windows, use\n",
    "# %matplotlib qt5\n",
    "\n",
    "%matplotlib inline\n",
    "\n",
    "from modsim import *"
   ]
  },
  {
   "cell_type": "markdown",
   "metadata": {},
   "source": [
    "## More than one System object\n",
    "\n",
    "Here's the code from the previous chapter, with two changes:\n",
    "\n",
    "1. I've added DocStrings that explain what each function does, and what parameters it takes.\n",
    "\n",
    "2. I've added a parameter named `system` to the functions so they work with whatever `System` object we give them, instead of always using `bikeshare`.  That will be useful soon when we have more than one `System` object."
   ]
  },
  {
   "cell_type": "code",
   "execution_count": 4,
   "metadata": {
    "collapsed": true
   },
   "outputs": [],
   "source": [
    "def run_steps(system, num_steps=1, p1=0.5, p2=0.5):\n",
    "    \"\"\"Simulate the given number of time steps.\n",
    "    \n",
    "    system: bikeshare System object\n",
    "    num_steps: number of time steps\n",
    "    p1: probability of an Olin->Wellesley customer arrival\n",
    "    p2: probability of a Wellesley->Olin customer arrival\n",
    "    \"\"\"\n",
    "    for i in range(num_steps):\n",
    "        step(system, p1, p2)\n",
    "        plot_system(system)\n",
    "        \n",
    "def step(system, p1=0.5, p2=0.5):\n",
    "    \"\"\"Simulate one minute of time.\n",
    "    \n",
    "    system: bikeshare System object\n",
    "    p1: probability of an Olin->Wellesley customer arrival\n",
    "    p2: probability of a Wellesley->Olin customer arrival\n",
    "    \"\"\"\n",
    "    if flip(p1):\n",
    "        bike_to_wellesley(system)\n",
    "    \n",
    "    if flip(p2):\n",
    "        bike_to_olin(system)\n",
    "        \n",
    "def bike_to_wellesley(system):\n",
    "    \"\"\"Move one bike from Olin to Wellesley.\n",
    "    \n",
    "    system: bikeshare System object\n",
    "    \"\"\"\n",
    "    move_bike(system, 1)\n",
    "    \n",
    "def bike_to_olin(system):\n",
    "    \"\"\"Move one bike from Wellesley to Olin.\n",
    "    \n",
    "    system: bikeshare System object\n",
    "    \"\"\"\n",
    "    move_bike(system, -1)\n",
    "    \n",
    "def move_bike(system, n):\n",
    "    \"\"\"Move a bike.\n",
    "    \n",
    "    system: bikeshare System object\n",
    "    n: +1 to move from Olin to Wellesley or\n",
    "       -1 to move from Wellesley to Olin\n",
    "    \"\"\"\n",
    "    system.olin -= n\n",
    "    system.wellesley += n\n",
    "    \n",
    "def plot_system(system):\n",
    "    \"\"\"Plot the current system of the bikeshare system.\n",
    "    \n",
    "    system: bikeshare System object\n",
    "    \"\"\"\n",
    "    plot(system.olin, 'rs-', label='Olin')\n",
    "    plot(system.wellesley, 'bo-', label='Wellesley')\n",
    "    \n",
    "def decorate_bikeshare():\n",
    "    \"\"\"Add a title and label the axes.\"\"\"\n",
    "    decorate(title='Olin-Wellesley Bikeshare',\n",
    "               xlabel='Time step (min)', \n",
    "               ylabel='Number of bikes')"
   ]
  },
  {
   "cell_type": "markdown",
   "metadata": {},
   "source": [
    "Now we can create more than one `System` object:"
   ]
  },
  {
   "cell_type": "code",
   "execution_count": 5,
   "metadata": {},
   "outputs": [
    {
     "data": {
      "text/html": [
       "<div>\n",
       "<style>\n",
       "    .dataframe thead tr:only-child th {\n",
       "        text-align: right;\n",
       "    }\n",
       "\n",
       "    .dataframe thead th {\n",
       "        text-align: left;\n",
       "    }\n",
       "\n",
       "    .dataframe tbody tr th {\n",
       "        vertical-align: top;\n",
       "    }\n",
       "</style>\n",
       "<table border=\"1\" class=\"dataframe\">\n",
       "  <thead>\n",
       "    <tr style=\"text-align: right;\">\n",
       "      <th></th>\n",
       "      <th>value</th>\n",
       "    </tr>\n",
       "  </thead>\n",
       "  <tbody>\n",
       "    <tr>\n",
       "      <th>olin</th>\n",
       "      <td>10</td>\n",
       "    </tr>\n",
       "    <tr>\n",
       "      <th>wellesley</th>\n",
       "      <td>2</td>\n",
       "    </tr>\n",
       "  </tbody>\n",
       "</table>\n",
       "</div>"
      ],
      "text/plain": [
       "olin         10\n",
       "wellesley     2\n",
       "dtype: int64"
      ]
     },
     "execution_count": 5,
     "metadata": {},
     "output_type": "execute_result"
    }
   ],
   "source": [
    "bikeshare1 = System(olin=10, wellesley=2)\n",
    "bikeshare1"
   ]
  },
  {
   "cell_type": "code",
   "execution_count": 6,
   "metadata": {},
   "outputs": [
    {
     "data": {
      "text/html": [
       "<div>\n",
       "<style>\n",
       "    .dataframe thead tr:only-child th {\n",
       "        text-align: right;\n",
       "    }\n",
       "\n",
       "    .dataframe thead th {\n",
       "        text-align: left;\n",
       "    }\n",
       "\n",
       "    .dataframe tbody tr th {\n",
       "        vertical-align: top;\n",
       "    }\n",
       "</style>\n",
       "<table border=\"1\" class=\"dataframe\">\n",
       "  <thead>\n",
       "    <tr style=\"text-align: right;\">\n",
       "      <th></th>\n",
       "      <th>value</th>\n",
       "    </tr>\n",
       "  </thead>\n",
       "  <tbody>\n",
       "    <tr>\n",
       "      <th>olin</th>\n",
       "      <td>10</td>\n",
       "    </tr>\n",
       "    <tr>\n",
       "      <th>wellesley</th>\n",
       "      <td>2</td>\n",
       "    </tr>\n",
       "  </tbody>\n",
       "</table>\n",
       "</div>"
      ],
      "text/plain": [
       "olin         10\n",
       "wellesley     2\n",
       "dtype: int64"
      ]
     },
     "execution_count": 6,
     "metadata": {},
     "output_type": "execute_result"
    }
   ],
   "source": [
    "bikeshare2 = System(olin=10, wellesley=2)\n",
    "bikeshare2"
   ]
  },
  {
   "cell_type": "markdown",
   "metadata": {},
   "source": [
    "And whenever we call a function, we indicate which `System` object to work with:"
   ]
  },
  {
   "cell_type": "code",
   "execution_count": 7,
   "metadata": {
    "collapsed": true
   },
   "outputs": [],
   "source": [
    "bike_to_olin(bikeshare1)"
   ]
  },
  {
   "cell_type": "code",
   "execution_count": 8,
   "metadata": {
    "collapsed": true
   },
   "outputs": [],
   "source": [
    "bike_to_wellesley(bikeshare2)"
   ]
  },
  {
   "cell_type": "markdown",
   "metadata": {},
   "source": [
    "And you can confirm that the different systems are getting updated independently:"
   ]
  },
  {
   "cell_type": "code",
   "execution_count": 9,
   "metadata": {},
   "outputs": [
    {
     "data": {
      "text/html": [
       "<div>\n",
       "<style>\n",
       "    .dataframe thead tr:only-child th {\n",
       "        text-align: right;\n",
       "    }\n",
       "\n",
       "    .dataframe thead th {\n",
       "        text-align: left;\n",
       "    }\n",
       "\n",
       "    .dataframe tbody tr th {\n",
       "        vertical-align: top;\n",
       "    }\n",
       "</style>\n",
       "<table border=\"1\" class=\"dataframe\">\n",
       "  <thead>\n",
       "    <tr style=\"text-align: right;\">\n",
       "      <th></th>\n",
       "      <th>value</th>\n",
       "    </tr>\n",
       "  </thead>\n",
       "  <tbody>\n",
       "    <tr>\n",
       "      <th>olin</th>\n",
       "      <td>11</td>\n",
       "    </tr>\n",
       "    <tr>\n",
       "      <th>wellesley</th>\n",
       "      <td>1</td>\n",
       "    </tr>\n",
       "  </tbody>\n",
       "</table>\n",
       "</div>"
      ],
      "text/plain": [
       "olin         11\n",
       "wellesley     1\n",
       "dtype: int64"
      ]
     },
     "execution_count": 9,
     "metadata": {},
     "output_type": "execute_result"
    }
   ],
   "source": [
    "bikeshare1"
   ]
  },
  {
   "cell_type": "code",
   "execution_count": 10,
   "metadata": {},
   "outputs": [
    {
     "data": {
      "text/html": [
       "<div>\n",
       "<style>\n",
       "    .dataframe thead tr:only-child th {\n",
       "        text-align: right;\n",
       "    }\n",
       "\n",
       "    .dataframe thead th {\n",
       "        text-align: left;\n",
       "    }\n",
       "\n",
       "    .dataframe tbody tr th {\n",
       "        vertical-align: top;\n",
       "    }\n",
       "</style>\n",
       "<table border=\"1\" class=\"dataframe\">\n",
       "  <thead>\n",
       "    <tr style=\"text-align: right;\">\n",
       "      <th></th>\n",
       "      <th>value</th>\n",
       "    </tr>\n",
       "  </thead>\n",
       "  <tbody>\n",
       "    <tr>\n",
       "      <th>olin</th>\n",
       "      <td>9</td>\n",
       "    </tr>\n",
       "    <tr>\n",
       "      <th>wellesley</th>\n",
       "      <td>3</td>\n",
       "    </tr>\n",
       "  </tbody>\n",
       "</table>\n",
       "</div>"
      ],
      "text/plain": [
       "olin         9\n",
       "wellesley    3\n",
       "dtype: int64"
      ]
     },
     "execution_count": 10,
     "metadata": {},
     "output_type": "execute_result"
    }
   ],
   "source": [
    "bikeshare2"
   ]
  },
  {
   "cell_type": "markdown",
   "metadata": {},
   "source": [
    "## Negative bikes"
   ]
  },
  {
   "cell_type": "markdown",
   "metadata": {},
   "source": [
    "In the code we have so far, the number of bikes at one of the locations can go negative, and the number of bikes at the other location can exceed the actual number of bikes in the system.\n",
    "\n",
    "If you run this simulation a few times, it happens quite often."
   ]
  },
  {
   "cell_type": "code",
   "execution_count": 11,
   "metadata": {},
   "outputs": [
    {
     "data": {
      "application/javascript": [
       "/* Put everything inside the global mpl namespace */\n",
       "window.mpl = {};\n",
       "\n",
       "\n",
       "mpl.get_websocket_type = function() {\n",
       "    if (typeof(WebSocket) !== 'undefined') {\n",
       "        return WebSocket;\n",
       "    } else if (typeof(MozWebSocket) !== 'undefined') {\n",
       "        return MozWebSocket;\n",
       "    } else {\n",
       "        alert('Your browser does not have WebSocket support.' +\n",
       "              'Please try Chrome, Safari or Firefox ≥ 6. ' +\n",
       "              'Firefox 4 and 5 are also supported but you ' +\n",
       "              'have to enable WebSockets in about:config.');\n",
       "    };\n",
       "}\n",
       "\n",
       "mpl.figure = function(figure_id, websocket, ondownload, parent_element) {\n",
       "    this.id = figure_id;\n",
       "\n",
       "    this.ws = websocket;\n",
       "\n",
       "    this.supports_binary = (this.ws.binaryType != undefined);\n",
       "\n",
       "    if (!this.supports_binary) {\n",
       "        var warnings = document.getElementById(\"mpl-warnings\");\n",
       "        if (warnings) {\n",
       "            warnings.style.display = 'block';\n",
       "            warnings.textContent = (\n",
       "                \"This browser does not support binary websocket messages. \" +\n",
       "                    \"Performance may be slow.\");\n",
       "        }\n",
       "    }\n",
       "\n",
       "    this.imageObj = new Image();\n",
       "\n",
       "    this.context = undefined;\n",
       "    this.message = undefined;\n",
       "    this.canvas = undefined;\n",
       "    this.rubberband_canvas = undefined;\n",
       "    this.rubberband_context = undefined;\n",
       "    this.format_dropdown = undefined;\n",
       "\n",
       "    this.image_mode = 'full';\n",
       "\n",
       "    this.root = $('<div/>');\n",
       "    this._root_extra_style(this.root)\n",
       "    this.root.attr('style', 'display: inline-block');\n",
       "\n",
       "    $(parent_element).append(this.root);\n",
       "\n",
       "    this._init_header(this);\n",
       "    this._init_canvas(this);\n",
       "    this._init_toolbar(this);\n",
       "\n",
       "    var fig = this;\n",
       "\n",
       "    this.waiting = false;\n",
       "\n",
       "    this.ws.onopen =  function () {\n",
       "            fig.send_message(\"supports_binary\", {value: fig.supports_binary});\n",
       "            fig.send_message(\"send_image_mode\", {});\n",
       "            if (mpl.ratio != 1) {\n",
       "                fig.send_message(\"set_dpi_ratio\", {'dpi_ratio': mpl.ratio});\n",
       "            }\n",
       "            fig.send_message(\"refresh\", {});\n",
       "        }\n",
       "\n",
       "    this.imageObj.onload = function() {\n",
       "            if (fig.image_mode == 'full') {\n",
       "                // Full images could contain transparency (where diff images\n",
       "                // almost always do), so we need to clear the canvas so that\n",
       "                // there is no ghosting.\n",
       "                fig.context.clearRect(0, 0, fig.canvas.width, fig.canvas.height);\n",
       "            }\n",
       "            fig.context.drawImage(fig.imageObj, 0, 0);\n",
       "        };\n",
       "\n",
       "    this.imageObj.onunload = function() {\n",
       "        this.ws.close();\n",
       "    }\n",
       "\n",
       "    this.ws.onmessage = this._make_on_message_function(this);\n",
       "\n",
       "    this.ondownload = ondownload;\n",
       "}\n",
       "\n",
       "mpl.figure.prototype._init_header = function() {\n",
       "    var titlebar = $(\n",
       "        '<div class=\"ui-dialog-titlebar ui-widget-header ui-corner-all ' +\n",
       "        'ui-helper-clearfix\"/>');\n",
       "    var titletext = $(\n",
       "        '<div class=\"ui-dialog-title\" style=\"width: 100%; ' +\n",
       "        'text-align: center; padding: 3px;\"/>');\n",
       "    titlebar.append(titletext)\n",
       "    this.root.append(titlebar);\n",
       "    this.header = titletext[0];\n",
       "}\n",
       "\n",
       "\n",
       "\n",
       "mpl.figure.prototype._canvas_extra_style = function(canvas_div) {\n",
       "\n",
       "}\n",
       "\n",
       "\n",
       "mpl.figure.prototype._root_extra_style = function(canvas_div) {\n",
       "\n",
       "}\n",
       "\n",
       "mpl.figure.prototype._init_canvas = function() {\n",
       "    var fig = this;\n",
       "\n",
       "    var canvas_div = $('<div/>');\n",
       "\n",
       "    canvas_div.attr('style', 'position: relative; clear: both; outline: 0');\n",
       "\n",
       "    function canvas_keyboard_event(event) {\n",
       "        return fig.key_event(event, event['data']);\n",
       "    }\n",
       "\n",
       "    canvas_div.keydown('key_press', canvas_keyboard_event);\n",
       "    canvas_div.keyup('key_release', canvas_keyboard_event);\n",
       "    this.canvas_div = canvas_div\n",
       "    this._canvas_extra_style(canvas_div)\n",
       "    this.root.append(canvas_div);\n",
       "\n",
       "    var canvas = $('<canvas/>');\n",
       "    canvas.addClass('mpl-canvas');\n",
       "    canvas.attr('style', \"left: 0; top: 0; z-index: 0; outline: 0\")\n",
       "\n",
       "    this.canvas = canvas[0];\n",
       "    this.context = canvas[0].getContext(\"2d\");\n",
       "\n",
       "    var backingStore = this.context.backingStorePixelRatio ||\n",
       "\tthis.context.webkitBackingStorePixelRatio ||\n",
       "\tthis.context.mozBackingStorePixelRatio ||\n",
       "\tthis.context.msBackingStorePixelRatio ||\n",
       "\tthis.context.oBackingStorePixelRatio ||\n",
       "\tthis.context.backingStorePixelRatio || 1;\n",
       "\n",
       "    mpl.ratio = (window.devicePixelRatio || 1) / backingStore;\n",
       "\n",
       "    var rubberband = $('<canvas/>');\n",
       "    rubberband.attr('style', \"position: absolute; left: 0; top: 0; z-index: 1;\")\n",
       "\n",
       "    var pass_mouse_events = true;\n",
       "\n",
       "    canvas_div.resizable({\n",
       "        start: function(event, ui) {\n",
       "            pass_mouse_events = false;\n",
       "        },\n",
       "        resize: function(event, ui) {\n",
       "            fig.request_resize(ui.size.width, ui.size.height);\n",
       "        },\n",
       "        stop: function(event, ui) {\n",
       "            pass_mouse_events = true;\n",
       "            fig.request_resize(ui.size.width, ui.size.height);\n",
       "        },\n",
       "    });\n",
       "\n",
       "    function mouse_event_fn(event) {\n",
       "        if (pass_mouse_events)\n",
       "            return fig.mouse_event(event, event['data']);\n",
       "    }\n",
       "\n",
       "    rubberband.mousedown('button_press', mouse_event_fn);\n",
       "    rubberband.mouseup('button_release', mouse_event_fn);\n",
       "    // Throttle sequential mouse events to 1 every 20ms.\n",
       "    rubberband.mousemove('motion_notify', mouse_event_fn);\n",
       "\n",
       "    rubberband.mouseenter('figure_enter', mouse_event_fn);\n",
       "    rubberband.mouseleave('figure_leave', mouse_event_fn);\n",
       "\n",
       "    canvas_div.on(\"wheel\", function (event) {\n",
       "        event = event.originalEvent;\n",
       "        event['data'] = 'scroll'\n",
       "        if (event.deltaY < 0) {\n",
       "            event.step = 1;\n",
       "        } else {\n",
       "            event.step = -1;\n",
       "        }\n",
       "        mouse_event_fn(event);\n",
       "    });\n",
       "\n",
       "    canvas_div.append(canvas);\n",
       "    canvas_div.append(rubberband);\n",
       "\n",
       "    this.rubberband = rubberband;\n",
       "    this.rubberband_canvas = rubberband[0];\n",
       "    this.rubberband_context = rubberband[0].getContext(\"2d\");\n",
       "    this.rubberband_context.strokeStyle = \"#000000\";\n",
       "\n",
       "    this._resize_canvas = function(width, height) {\n",
       "        // Keep the size of the canvas, canvas container, and rubber band\n",
       "        // canvas in synch.\n",
       "        canvas_div.css('width', width)\n",
       "        canvas_div.css('height', height)\n",
       "\n",
       "        canvas.attr('width', width * mpl.ratio);\n",
       "        canvas.attr('height', height * mpl.ratio);\n",
       "        canvas.attr('style', 'width: ' + width + 'px; height: ' + height + 'px;');\n",
       "\n",
       "        rubberband.attr('width', width);\n",
       "        rubberband.attr('height', height);\n",
       "    }\n",
       "\n",
       "    // Set the figure to an initial 600x600px, this will subsequently be updated\n",
       "    // upon first draw.\n",
       "    this._resize_canvas(600, 600);\n",
       "\n",
       "    // Disable right mouse context menu.\n",
       "    $(this.rubberband_canvas).bind(\"contextmenu\",function(e){\n",
       "        return false;\n",
       "    });\n",
       "\n",
       "    function set_focus () {\n",
       "        canvas.focus();\n",
       "        canvas_div.focus();\n",
       "    }\n",
       "\n",
       "    window.setTimeout(set_focus, 100);\n",
       "}\n",
       "\n",
       "mpl.figure.prototype._init_toolbar = function() {\n",
       "    var fig = this;\n",
       "\n",
       "    var nav_element = $('<div/>')\n",
       "    nav_element.attr('style', 'width: 100%');\n",
       "    this.root.append(nav_element);\n",
       "\n",
       "    // Define a callback function for later on.\n",
       "    function toolbar_event(event) {\n",
       "        return fig.toolbar_button_onclick(event['data']);\n",
       "    }\n",
       "    function toolbar_mouse_event(event) {\n",
       "        return fig.toolbar_button_onmouseover(event['data']);\n",
       "    }\n",
       "\n",
       "    for(var toolbar_ind in mpl.toolbar_items) {\n",
       "        var name = mpl.toolbar_items[toolbar_ind][0];\n",
       "        var tooltip = mpl.toolbar_items[toolbar_ind][1];\n",
       "        var image = mpl.toolbar_items[toolbar_ind][2];\n",
       "        var method_name = mpl.toolbar_items[toolbar_ind][3];\n",
       "\n",
       "        if (!name) {\n",
       "            // put a spacer in here.\n",
       "            continue;\n",
       "        }\n",
       "        var button = $('<button/>');\n",
       "        button.addClass('ui-button ui-widget ui-state-default ui-corner-all ' +\n",
       "                        'ui-button-icon-only');\n",
       "        button.attr('role', 'button');\n",
       "        button.attr('aria-disabled', 'false');\n",
       "        button.click(method_name, toolbar_event);\n",
       "        button.mouseover(tooltip, toolbar_mouse_event);\n",
       "\n",
       "        var icon_img = $('<span/>');\n",
       "        icon_img.addClass('ui-button-icon-primary ui-icon');\n",
       "        icon_img.addClass(image);\n",
       "        icon_img.addClass('ui-corner-all');\n",
       "\n",
       "        var tooltip_span = $('<span/>');\n",
       "        tooltip_span.addClass('ui-button-text');\n",
       "        tooltip_span.html(tooltip);\n",
       "\n",
       "        button.append(icon_img);\n",
       "        button.append(tooltip_span);\n",
       "\n",
       "        nav_element.append(button);\n",
       "    }\n",
       "\n",
       "    var fmt_picker_span = $('<span/>');\n",
       "\n",
       "    var fmt_picker = $('<select/>');\n",
       "    fmt_picker.addClass('mpl-toolbar-option ui-widget ui-widget-content');\n",
       "    fmt_picker_span.append(fmt_picker);\n",
       "    nav_element.append(fmt_picker_span);\n",
       "    this.format_dropdown = fmt_picker[0];\n",
       "\n",
       "    for (var ind in mpl.extensions) {\n",
       "        var fmt = mpl.extensions[ind];\n",
       "        var option = $(\n",
       "            '<option/>', {selected: fmt === mpl.default_extension}).html(fmt);\n",
       "        fmt_picker.append(option)\n",
       "    }\n",
       "\n",
       "    // Add hover states to the ui-buttons\n",
       "    $( \".ui-button\" ).hover(\n",
       "        function() { $(this).addClass(\"ui-state-hover\");},\n",
       "        function() { $(this).removeClass(\"ui-state-hover\");}\n",
       "    );\n",
       "\n",
       "    var status_bar = $('<span class=\"mpl-message\"/>');\n",
       "    nav_element.append(status_bar);\n",
       "    this.message = status_bar[0];\n",
       "}\n",
       "\n",
       "mpl.figure.prototype.request_resize = function(x_pixels, y_pixels) {\n",
       "    // Request matplotlib to resize the figure. Matplotlib will then trigger a resize in the client,\n",
       "    // which will in turn request a refresh of the image.\n",
       "    this.send_message('resize', {'width': x_pixels, 'height': y_pixels});\n",
       "}\n",
       "\n",
       "mpl.figure.prototype.send_message = function(type, properties) {\n",
       "    properties['type'] = type;\n",
       "    properties['figure_id'] = this.id;\n",
       "    this.ws.send(JSON.stringify(properties));\n",
       "}\n",
       "\n",
       "mpl.figure.prototype.send_draw_message = function() {\n",
       "    if (!this.waiting) {\n",
       "        this.waiting = true;\n",
       "        this.ws.send(JSON.stringify({type: \"draw\", figure_id: this.id}));\n",
       "    }\n",
       "}\n",
       "\n",
       "\n",
       "mpl.figure.prototype.handle_save = function(fig, msg) {\n",
       "    var format_dropdown = fig.format_dropdown;\n",
       "    var format = format_dropdown.options[format_dropdown.selectedIndex].value;\n",
       "    fig.ondownload(fig, format);\n",
       "}\n",
       "\n",
       "\n",
       "mpl.figure.prototype.handle_resize = function(fig, msg) {\n",
       "    var size = msg['size'];\n",
       "    if (size[0] != fig.canvas.width || size[1] != fig.canvas.height) {\n",
       "        fig._resize_canvas(size[0], size[1]);\n",
       "        fig.send_message(\"refresh\", {});\n",
       "    };\n",
       "}\n",
       "\n",
       "mpl.figure.prototype.handle_rubberband = function(fig, msg) {\n",
       "    var x0 = msg['x0'] / mpl.ratio;\n",
       "    var y0 = (fig.canvas.height - msg['y0']) / mpl.ratio;\n",
       "    var x1 = msg['x1'] / mpl.ratio;\n",
       "    var y1 = (fig.canvas.height - msg['y1']) / mpl.ratio;\n",
       "    x0 = Math.floor(x0) + 0.5;\n",
       "    y0 = Math.floor(y0) + 0.5;\n",
       "    x1 = Math.floor(x1) + 0.5;\n",
       "    y1 = Math.floor(y1) + 0.5;\n",
       "    var min_x = Math.min(x0, x1);\n",
       "    var min_y = Math.min(y0, y1);\n",
       "    var width = Math.abs(x1 - x0);\n",
       "    var height = Math.abs(y1 - y0);\n",
       "\n",
       "    fig.rubberband_context.clearRect(\n",
       "        0, 0, fig.canvas.width, fig.canvas.height);\n",
       "\n",
       "    fig.rubberband_context.strokeRect(min_x, min_y, width, height);\n",
       "}\n",
       "\n",
       "mpl.figure.prototype.handle_figure_label = function(fig, msg) {\n",
       "    // Updates the figure title.\n",
       "    fig.header.textContent = msg['label'];\n",
       "}\n",
       "\n",
       "mpl.figure.prototype.handle_cursor = function(fig, msg) {\n",
       "    var cursor = msg['cursor'];\n",
       "    switch(cursor)\n",
       "    {\n",
       "    case 0:\n",
       "        cursor = 'pointer';\n",
       "        break;\n",
       "    case 1:\n",
       "        cursor = 'default';\n",
       "        break;\n",
       "    case 2:\n",
       "        cursor = 'crosshair';\n",
       "        break;\n",
       "    case 3:\n",
       "        cursor = 'move';\n",
       "        break;\n",
       "    }\n",
       "    fig.rubberband_canvas.style.cursor = cursor;\n",
       "}\n",
       "\n",
       "mpl.figure.prototype.handle_message = function(fig, msg) {\n",
       "    fig.message.textContent = msg['message'];\n",
       "}\n",
       "\n",
       "mpl.figure.prototype.handle_draw = function(fig, msg) {\n",
       "    // Request the server to send over a new figure.\n",
       "    fig.send_draw_message();\n",
       "}\n",
       "\n",
       "mpl.figure.prototype.handle_image_mode = function(fig, msg) {\n",
       "    fig.image_mode = msg['mode'];\n",
       "}\n",
       "\n",
       "mpl.figure.prototype.updated_canvas_event = function() {\n",
       "    // Called whenever the canvas gets updated.\n",
       "    this.send_message(\"ack\", {});\n",
       "}\n",
       "\n",
       "// A function to construct a web socket function for onmessage handling.\n",
       "// Called in the figure constructor.\n",
       "mpl.figure.prototype._make_on_message_function = function(fig) {\n",
       "    return function socket_on_message(evt) {\n",
       "        if (evt.data instanceof Blob) {\n",
       "            /* FIXME: We get \"Resource interpreted as Image but\n",
       "             * transferred with MIME type text/plain:\" errors on\n",
       "             * Chrome.  But how to set the MIME type?  It doesn't seem\n",
       "             * to be part of the websocket stream */\n",
       "            evt.data.type = \"image/png\";\n",
       "\n",
       "            /* Free the memory for the previous frames */\n",
       "            if (fig.imageObj.src) {\n",
       "                (window.URL || window.webkitURL).revokeObjectURL(\n",
       "                    fig.imageObj.src);\n",
       "            }\n",
       "\n",
       "            fig.imageObj.src = (window.URL || window.webkitURL).createObjectURL(\n",
       "                evt.data);\n",
       "            fig.updated_canvas_event();\n",
       "            fig.waiting = false;\n",
       "            return;\n",
       "        }\n",
       "        else if (typeof evt.data === 'string' && evt.data.slice(0, 21) == \"data:image/png;base64\") {\n",
       "            fig.imageObj.src = evt.data;\n",
       "            fig.updated_canvas_event();\n",
       "            fig.waiting = false;\n",
       "            return;\n",
       "        }\n",
       "\n",
       "        var msg = JSON.parse(evt.data);\n",
       "        var msg_type = msg['type'];\n",
       "\n",
       "        // Call the  \"handle_{type}\" callback, which takes\n",
       "        // the figure and JSON message as its only arguments.\n",
       "        try {\n",
       "            var callback = fig[\"handle_\" + msg_type];\n",
       "        } catch (e) {\n",
       "            console.log(\"No handler for the '\" + msg_type + \"' message type: \", msg);\n",
       "            return;\n",
       "        }\n",
       "\n",
       "        if (callback) {\n",
       "            try {\n",
       "                // console.log(\"Handling '\" + msg_type + \"' message: \", msg);\n",
       "                callback(fig, msg);\n",
       "            } catch (e) {\n",
       "                console.log(\"Exception inside the 'handler_\" + msg_type + \"' callback:\", e, e.stack, msg);\n",
       "            }\n",
       "        }\n",
       "    };\n",
       "}\n",
       "\n",
       "// from http://stackoverflow.com/questions/1114465/getting-mouse-location-in-canvas\n",
       "mpl.findpos = function(e) {\n",
       "    //this section is from http://www.quirksmode.org/js/events_properties.html\n",
       "    var targ;\n",
       "    if (!e)\n",
       "        e = window.event;\n",
       "    if (e.target)\n",
       "        targ = e.target;\n",
       "    else if (e.srcElement)\n",
       "        targ = e.srcElement;\n",
       "    if (targ.nodeType == 3) // defeat Safari bug\n",
       "        targ = targ.parentNode;\n",
       "\n",
       "    // jQuery normalizes the pageX and pageY\n",
       "    // pageX,Y are the mouse positions relative to the document\n",
       "    // offset() returns the position of the element relative to the document\n",
       "    var x = e.pageX - $(targ).offset().left;\n",
       "    var y = e.pageY - $(targ).offset().top;\n",
       "\n",
       "    return {\"x\": x, \"y\": y};\n",
       "};\n",
       "\n",
       "/*\n",
       " * return a copy of an object with only non-object keys\n",
       " * we need this to avoid circular references\n",
       " * http://stackoverflow.com/a/24161582/3208463\n",
       " */\n",
       "function simpleKeys (original) {\n",
       "  return Object.keys(original).reduce(function (obj, key) {\n",
       "    if (typeof original[key] !== 'object')\n",
       "        obj[key] = original[key]\n",
       "    return obj;\n",
       "  }, {});\n",
       "}\n",
       "\n",
       "mpl.figure.prototype.mouse_event = function(event, name) {\n",
       "    var canvas_pos = mpl.findpos(event)\n",
       "\n",
       "    if (name === 'button_press')\n",
       "    {\n",
       "        this.canvas.focus();\n",
       "        this.canvas_div.focus();\n",
       "    }\n",
       "\n",
       "    var x = canvas_pos.x * mpl.ratio;\n",
       "    var y = canvas_pos.y * mpl.ratio;\n",
       "\n",
       "    this.send_message(name, {x: x, y: y, button: event.button,\n",
       "                             step: event.step,\n",
       "                             guiEvent: simpleKeys(event)});\n",
       "\n",
       "    /* This prevents the web browser from automatically changing to\n",
       "     * the text insertion cursor when the button is pressed.  We want\n",
       "     * to control all of the cursor setting manually through the\n",
       "     * 'cursor' event from matplotlib */\n",
       "    event.preventDefault();\n",
       "    return false;\n",
       "}\n",
       "\n",
       "mpl.figure.prototype._key_event_extra = function(event, name) {\n",
       "    // Handle any extra behaviour associated with a key event\n",
       "}\n",
       "\n",
       "mpl.figure.prototype.key_event = function(event, name) {\n",
       "\n",
       "    // Prevent repeat events\n",
       "    if (name == 'key_press')\n",
       "    {\n",
       "        if (event.which === this._key)\n",
       "            return;\n",
       "        else\n",
       "            this._key = event.which;\n",
       "    }\n",
       "    if (name == 'key_release')\n",
       "        this._key = null;\n",
       "\n",
       "    var value = '';\n",
       "    if (event.ctrlKey && event.which != 17)\n",
       "        value += \"ctrl+\";\n",
       "    if (event.altKey && event.which != 18)\n",
       "        value += \"alt+\";\n",
       "    if (event.shiftKey && event.which != 16)\n",
       "        value += \"shift+\";\n",
       "\n",
       "    value += 'k';\n",
       "    value += event.which.toString();\n",
       "\n",
       "    this._key_event_extra(event, name);\n",
       "\n",
       "    this.send_message(name, {key: value,\n",
       "                             guiEvent: simpleKeys(event)});\n",
       "    return false;\n",
       "}\n",
       "\n",
       "mpl.figure.prototype.toolbar_button_onclick = function(name) {\n",
       "    if (name == 'download') {\n",
       "        this.handle_save(this, null);\n",
       "    } else {\n",
       "        this.send_message(\"toolbar_button\", {name: name});\n",
       "    }\n",
       "};\n",
       "\n",
       "mpl.figure.prototype.toolbar_button_onmouseover = function(tooltip) {\n",
       "    this.message.textContent = tooltip;\n",
       "};\n",
       "mpl.toolbar_items = [[\"Home\", \"Reset original view\", \"fa fa-home icon-home\", \"home\"], [\"Back\", \"Back to  previous view\", \"fa fa-arrow-left icon-arrow-left\", \"back\"], [\"Forward\", \"Forward to next view\", \"fa fa-arrow-right icon-arrow-right\", \"forward\"], [\"\", \"\", \"\", \"\"], [\"Pan\", \"Pan axes with left mouse, zoom with right\", \"fa fa-arrows icon-move\", \"pan\"], [\"Zoom\", \"Zoom to rectangle\", \"fa fa-square-o icon-check-empty\", \"zoom\"], [\"\", \"\", \"\", \"\"], [\"Download\", \"Download plot\", \"fa fa-floppy-o icon-save\", \"download\"]];\n",
       "\n",
       "mpl.extensions = [\"eps\", \"pdf\", \"png\", \"ps\", \"raw\", \"svg\"];\n",
       "\n",
       "mpl.default_extension = \"png\";var comm_websocket_adapter = function(comm) {\n",
       "    // Create a \"websocket\"-like object which calls the given IPython comm\n",
       "    // object with the appropriate methods. Currently this is a non binary\n",
       "    // socket, so there is still some room for performance tuning.\n",
       "    var ws = {};\n",
       "\n",
       "    ws.close = function() {\n",
       "        comm.close()\n",
       "    };\n",
       "    ws.send = function(m) {\n",
       "        //console.log('sending', m);\n",
       "        comm.send(m);\n",
       "    };\n",
       "    // Register the callback with on_msg.\n",
       "    comm.on_msg(function(msg) {\n",
       "        //console.log('receiving', msg['content']['data'], msg);\n",
       "        // Pass the mpl event to the overriden (by mpl) onmessage function.\n",
       "        ws.onmessage(msg['content']['data'])\n",
       "    });\n",
       "    return ws;\n",
       "}\n",
       "\n",
       "mpl.mpl_figure_comm = function(comm, msg) {\n",
       "    // This is the function which gets called when the mpl process\n",
       "    // starts-up an IPython Comm through the \"matplotlib\" channel.\n",
       "\n",
       "    var id = msg.content.data.id;\n",
       "    // Get hold of the div created by the display call when the Comm\n",
       "    // socket was opened in Python.\n",
       "    var element = $(\"#\" + id);\n",
       "    var ws_proxy = comm_websocket_adapter(comm)\n",
       "\n",
       "    function ondownload(figure, format) {\n",
       "        window.open(figure.imageObj.src);\n",
       "    }\n",
       "\n",
       "    var fig = new mpl.figure(id, ws_proxy,\n",
       "                           ondownload,\n",
       "                           element.get(0));\n",
       "\n",
       "    // Call onopen now - mpl needs it, as it is assuming we've passed it a real\n",
       "    // web socket which is closed, not our websocket->open comm proxy.\n",
       "    ws_proxy.onopen();\n",
       "\n",
       "    fig.parent_element = element.get(0);\n",
       "    fig.cell_info = mpl.find_output_cell(\"<div id='\" + id + \"'></div>\");\n",
       "    if (!fig.cell_info) {\n",
       "        console.error(\"Failed to find cell for figure\", id, fig);\n",
       "        return;\n",
       "    }\n",
       "\n",
       "    var output_index = fig.cell_info[2]\n",
       "    var cell = fig.cell_info[0];\n",
       "\n",
       "};\n",
       "\n",
       "mpl.figure.prototype.handle_close = function(fig, msg) {\n",
       "    var width = fig.canvas.width/mpl.ratio\n",
       "    fig.root.unbind('remove')\n",
       "\n",
       "    // Update the output cell to use the data from the current canvas.\n",
       "    fig.push_to_output();\n",
       "    var dataURL = fig.canvas.toDataURL();\n",
       "    // Re-enable the keyboard manager in IPython - without this line, in FF,\n",
       "    // the notebook keyboard shortcuts fail.\n",
       "    IPython.keyboard_manager.enable()\n",
       "    $(fig.parent_element).html('<img src=\"' + dataURL + '\" width=\"' + width + '\">');\n",
       "    fig.close_ws(fig, msg);\n",
       "}\n",
       "\n",
       "mpl.figure.prototype.close_ws = function(fig, msg){\n",
       "    fig.send_message('closing', msg);\n",
       "    // fig.ws.close()\n",
       "}\n",
       "\n",
       "mpl.figure.prototype.push_to_output = function(remove_interactive) {\n",
       "    // Turn the data on the canvas into data in the output cell.\n",
       "    var width = this.canvas.width/mpl.ratio\n",
       "    var dataURL = this.canvas.toDataURL();\n",
       "    this.cell_info[1]['text/html'] = '<img src=\"' + dataURL + '\" width=\"' + width + '\">';\n",
       "}\n",
       "\n",
       "mpl.figure.prototype.updated_canvas_event = function() {\n",
       "    // Tell IPython that the notebook contents must change.\n",
       "    IPython.notebook.set_dirty(true);\n",
       "    this.send_message(\"ack\", {});\n",
       "    var fig = this;\n",
       "    // Wait a second, then push the new image to the DOM so\n",
       "    // that it is saved nicely (might be nice to debounce this).\n",
       "    setTimeout(function () { fig.push_to_output() }, 1000);\n",
       "}\n",
       "\n",
       "mpl.figure.prototype._init_toolbar = function() {\n",
       "    var fig = this;\n",
       "\n",
       "    var nav_element = $('<div/>')\n",
       "    nav_element.attr('style', 'width: 100%');\n",
       "    this.root.append(nav_element);\n",
       "\n",
       "    // Define a callback function for later on.\n",
       "    function toolbar_event(event) {\n",
       "        return fig.toolbar_button_onclick(event['data']);\n",
       "    }\n",
       "    function toolbar_mouse_event(event) {\n",
       "        return fig.toolbar_button_onmouseover(event['data']);\n",
       "    }\n",
       "\n",
       "    for(var toolbar_ind in mpl.toolbar_items){\n",
       "        var name = mpl.toolbar_items[toolbar_ind][0];\n",
       "        var tooltip = mpl.toolbar_items[toolbar_ind][1];\n",
       "        var image = mpl.toolbar_items[toolbar_ind][2];\n",
       "        var method_name = mpl.toolbar_items[toolbar_ind][3];\n",
       "\n",
       "        if (!name) { continue; };\n",
       "\n",
       "        var button = $('<button class=\"btn btn-default\" href=\"#\" title=\"' + name + '\"><i class=\"fa ' + image + ' fa-lg\"></i></button>');\n",
       "        button.click(method_name, toolbar_event);\n",
       "        button.mouseover(tooltip, toolbar_mouse_event);\n",
       "        nav_element.append(button);\n",
       "    }\n",
       "\n",
       "    // Add the status bar.\n",
       "    var status_bar = $('<span class=\"mpl-message\" style=\"text-align:right; float: right;\"/>');\n",
       "    nav_element.append(status_bar);\n",
       "    this.message = status_bar[0];\n",
       "\n",
       "    // Add the close button to the window.\n",
       "    var buttongrp = $('<div class=\"btn-group inline pull-right\"></div>');\n",
       "    var button = $('<button class=\"btn btn-mini btn-primary\" href=\"#\" title=\"Stop Interaction\"><i class=\"fa fa-power-off icon-remove icon-large\"></i></button>');\n",
       "    button.click(function (evt) { fig.handle_close(fig, {}); } );\n",
       "    button.mouseover('Stop Interaction', toolbar_mouse_event);\n",
       "    buttongrp.append(button);\n",
       "    var titlebar = this.root.find($('.ui-dialog-titlebar'));\n",
       "    titlebar.prepend(buttongrp);\n",
       "}\n",
       "\n",
       "mpl.figure.prototype._root_extra_style = function(el){\n",
       "    var fig = this\n",
       "    el.on(\"remove\", function(){\n",
       "\tfig.close_ws(fig, {});\n",
       "    });\n",
       "}\n",
       "\n",
       "mpl.figure.prototype._canvas_extra_style = function(el){\n",
       "    // this is important to make the div 'focusable\n",
       "    el.attr('tabindex', 0)\n",
       "    // reach out to IPython and tell the keyboard manager to turn it's self\n",
       "    // off when our div gets focus\n",
       "\n",
       "    // location in version 3\n",
       "    if (IPython.notebook.keyboard_manager) {\n",
       "        IPython.notebook.keyboard_manager.register_events(el);\n",
       "    }\n",
       "    else {\n",
       "        // location in version 2\n",
       "        IPython.keyboard_manager.register_events(el);\n",
       "    }\n",
       "\n",
       "}\n",
       "\n",
       "mpl.figure.prototype._key_event_extra = function(event, name) {\n",
       "    var manager = IPython.notebook.keyboard_manager;\n",
       "    if (!manager)\n",
       "        manager = IPython.keyboard_manager;\n",
       "\n",
       "    // Check for shift+enter\n",
       "    if (event.shiftKey && event.which == 13) {\n",
       "        this.canvas_div.blur();\n",
       "        // select the cell after this one\n",
       "        var index = IPython.notebook.find_cell_index(this.cell_info[0]);\n",
       "        IPython.notebook.select(index + 1);\n",
       "    }\n",
       "}\n",
       "\n",
       "mpl.figure.prototype.handle_save = function(fig, msg) {\n",
       "    fig.ondownload(fig, null);\n",
       "}\n",
       "\n",
       "\n",
       "mpl.find_output_cell = function(html_output) {\n",
       "    // Return the cell and output element which can be found *uniquely* in the notebook.\n",
       "    // Note - this is a bit hacky, but it is done because the \"notebook_saving.Notebook\"\n",
       "    // IPython event is triggered only after the cells have been serialised, which for\n",
       "    // our purposes (turning an active figure into a static one), is too late.\n",
       "    var cells = IPython.notebook.get_cells();\n",
       "    var ncells = cells.length;\n",
       "    for (var i=0; i<ncells; i++) {\n",
       "        var cell = cells[i];\n",
       "        if (cell.cell_type === 'code'){\n",
       "            for (var j=0; j<cell.output_area.outputs.length; j++) {\n",
       "                var data = cell.output_area.outputs[j];\n",
       "                if (data.data) {\n",
       "                    // IPython >= 3 moved mimebundle to data attribute of output\n",
       "                    data = data.data;\n",
       "                }\n",
       "                if (data['text/html'] == html_output) {\n",
       "                    return [cell, data, j];\n",
       "                }\n",
       "            }\n",
       "        }\n",
       "    }\n",
       "}\n",
       "\n",
       "// Register the function which deals with the matplotlib target/channel.\n",
       "// The kernel may be null if the page has been refreshed.\n",
       "if (IPython.notebook.kernel != null) {\n",
       "    IPython.notebook.kernel.comm_manager.register_target('matplotlib', mpl.mpl_figure_comm);\n",
       "}\n"
      ],
      "text/plain": [
       "<IPython.core.display.Javascript object>"
      ]
     },
     "metadata": {},
     "output_type": "display_data"
    },
    {
     "data": {
      "text/html": [
       "<img src=\"data:image/png;base64,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\" width=\"640\">"
      ],
      "text/plain": [
       "<IPython.core.display.HTML object>"
      ]
     },
     "metadata": {},
     "output_type": "display_data"
    },
    {
     "name": "stderr",
     "output_type": "stream",
     "text": [
      "IOPub data rate exceeded.\n",
      "The notebook server will temporarily stop sending output\n",
      "to the client in order to avoid crashing it.\n",
      "To change this limit, set the config variable\n",
      "`--NotebookApp.iopub_data_rate_limit`.\n"
     ]
    }
   ],
   "source": [
    "bikeshare = System(olin=10, wellesley=2)\n",
    "newfig()\n",
    "plot_system(bikeshare)\n",
    "decorate_bikeshare()\n",
    "run_steps(bikeshare, 60, 0.4, 0.2)"
   ]
  },
  {
   "cell_type": "markdown",
   "metadata": {},
   "source": [
    "But this is relatively easy to fix, using the `return` statement to exit the function early if the update would cause negative bikes.\n",
    "\n",
    "If the second `if` statement seems confusing, remember that `n` can be negative."
   ]
  },
  {
   "cell_type": "code",
   "execution_count": 12,
   "metadata": {
    "collapsed": true
   },
   "outputs": [],
   "source": [
    "def move_bike(system, n):\n",
    "    # make sure the number of bikes won't go negative\n",
    "    olin_temp = system.olin - n\n",
    "    if olin_temp < 0:\n",
    "        return\n",
    "        #print('No Bikes left at Olin')\n",
    "    \n",
    "    wellesley_temp = system.wellesley + n\n",
    "    if wellesley_temp < 0:\n",
    "        return\n",
    "        #print('No Bikes left at Wellesley')\n",
    "    \n",
    "    # update the system\n",
    "    system.olin = olin_temp\n",
    "    system.wellesley = wellesley_temp"
   ]
  },
  {
   "cell_type": "markdown",
   "metadata": {},
   "source": [
    "Now if you run the simulation again, it should behave."
   ]
  },
  {
   "cell_type": "code",
   "execution_count": 13,
   "metadata": {},
   "outputs": [
    {
     "data": {
      "application/javascript": [
       "/* Put everything inside the global mpl namespace */\n",
       "window.mpl = {};\n",
       "\n",
       "\n",
       "mpl.get_websocket_type = function() {\n",
       "    if (typeof(WebSocket) !== 'undefined') {\n",
       "        return WebSocket;\n",
       "    } else if (typeof(MozWebSocket) !== 'undefined') {\n",
       "        return MozWebSocket;\n",
       "    } else {\n",
       "        alert('Your browser does not have WebSocket support.' +\n",
       "              'Please try Chrome, Safari or Firefox ≥ 6. ' +\n",
       "              'Firefox 4 and 5 are also supported but you ' +\n",
       "              'have to enable WebSockets in about:config.');\n",
       "    };\n",
       "}\n",
       "\n",
       "mpl.figure = function(figure_id, websocket, ondownload, parent_element) {\n",
       "    this.id = figure_id;\n",
       "\n",
       "    this.ws = websocket;\n",
       "\n",
       "    this.supports_binary = (this.ws.binaryType != undefined);\n",
       "\n",
       "    if (!this.supports_binary) {\n",
       "        var warnings = document.getElementById(\"mpl-warnings\");\n",
       "        if (warnings) {\n",
       "            warnings.style.display = 'block';\n",
       "            warnings.textContent = (\n",
       "                \"This browser does not support binary websocket messages. \" +\n",
       "                    \"Performance may be slow.\");\n",
       "        }\n",
       "    }\n",
       "\n",
       "    this.imageObj = new Image();\n",
       "\n",
       "    this.context = undefined;\n",
       "    this.message = undefined;\n",
       "    this.canvas = undefined;\n",
       "    this.rubberband_canvas = undefined;\n",
       "    this.rubberband_context = undefined;\n",
       "    this.format_dropdown = undefined;\n",
       "\n",
       "    this.image_mode = 'full';\n",
       "\n",
       "    this.root = $('<div/>');\n",
       "    this._root_extra_style(this.root)\n",
       "    this.root.attr('style', 'display: inline-block');\n",
       "\n",
       "    $(parent_element).append(this.root);\n",
       "\n",
       "    this._init_header(this);\n",
       "    this._init_canvas(this);\n",
       "    this._init_toolbar(this);\n",
       "\n",
       "    var fig = this;\n",
       "\n",
       "    this.waiting = false;\n",
       "\n",
       "    this.ws.onopen =  function () {\n",
       "            fig.send_message(\"supports_binary\", {value: fig.supports_binary});\n",
       "            fig.send_message(\"send_image_mode\", {});\n",
       "            if (mpl.ratio != 1) {\n",
       "                fig.send_message(\"set_dpi_ratio\", {'dpi_ratio': mpl.ratio});\n",
       "            }\n",
       "            fig.send_message(\"refresh\", {});\n",
       "        }\n",
       "\n",
       "    this.imageObj.onload = function() {\n",
       "            if (fig.image_mode == 'full') {\n",
       "                // Full images could contain transparency (where diff images\n",
       "                // almost always do), so we need to clear the canvas so that\n",
       "                // there is no ghosting.\n",
       "                fig.context.clearRect(0, 0, fig.canvas.width, fig.canvas.height);\n",
       "            }\n",
       "            fig.context.drawImage(fig.imageObj, 0, 0);\n",
       "        };\n",
       "\n",
       "    this.imageObj.onunload = function() {\n",
       "        this.ws.close();\n",
       "    }\n",
       "\n",
       "    this.ws.onmessage = this._make_on_message_function(this);\n",
       "\n",
       "    this.ondownload = ondownload;\n",
       "}\n",
       "\n",
       "mpl.figure.prototype._init_header = function() {\n",
       "    var titlebar = $(\n",
       "        '<div class=\"ui-dialog-titlebar ui-widget-header ui-corner-all ' +\n",
       "        'ui-helper-clearfix\"/>');\n",
       "    var titletext = $(\n",
       "        '<div class=\"ui-dialog-title\" style=\"width: 100%; ' +\n",
       "        'text-align: center; padding: 3px;\"/>');\n",
       "    titlebar.append(titletext)\n",
       "    this.root.append(titlebar);\n",
       "    this.header = titletext[0];\n",
       "}\n",
       "\n",
       "\n",
       "\n",
       "mpl.figure.prototype._canvas_extra_style = function(canvas_div) {\n",
       "\n",
       "}\n",
       "\n",
       "\n",
       "mpl.figure.prototype._root_extra_style = function(canvas_div) {\n",
       "\n",
       "}\n",
       "\n",
       "mpl.figure.prototype._init_canvas = function() {\n",
       "    var fig = this;\n",
       "\n",
       "    var canvas_div = $('<div/>');\n",
       "\n",
       "    canvas_div.attr('style', 'position: relative; clear: both; outline: 0');\n",
       "\n",
       "    function canvas_keyboard_event(event) {\n",
       "        return fig.key_event(event, event['data']);\n",
       "    }\n",
       "\n",
       "    canvas_div.keydown('key_press', canvas_keyboard_event);\n",
       "    canvas_div.keyup('key_release', canvas_keyboard_event);\n",
       "    this.canvas_div = canvas_div\n",
       "    this._canvas_extra_style(canvas_div)\n",
       "    this.root.append(canvas_div);\n",
       "\n",
       "    var canvas = $('<canvas/>');\n",
       "    canvas.addClass('mpl-canvas');\n",
       "    canvas.attr('style', \"left: 0; top: 0; z-index: 0; outline: 0\")\n",
       "\n",
       "    this.canvas = canvas[0];\n",
       "    this.context = canvas[0].getContext(\"2d\");\n",
       "\n",
       "    var backingStore = this.context.backingStorePixelRatio ||\n",
       "\tthis.context.webkitBackingStorePixelRatio ||\n",
       "\tthis.context.mozBackingStorePixelRatio ||\n",
       "\tthis.context.msBackingStorePixelRatio ||\n",
       "\tthis.context.oBackingStorePixelRatio ||\n",
       "\tthis.context.backingStorePixelRatio || 1;\n",
       "\n",
       "    mpl.ratio = (window.devicePixelRatio || 1) / backingStore;\n",
       "\n",
       "    var rubberband = $('<canvas/>');\n",
       "    rubberband.attr('style', \"position: absolute; left: 0; top: 0; z-index: 1;\")\n",
       "\n",
       "    var pass_mouse_events = true;\n",
       "\n",
       "    canvas_div.resizable({\n",
       "        start: function(event, ui) {\n",
       "            pass_mouse_events = false;\n",
       "        },\n",
       "        resize: function(event, ui) {\n",
       "            fig.request_resize(ui.size.width, ui.size.height);\n",
       "        },\n",
       "        stop: function(event, ui) {\n",
       "            pass_mouse_events = true;\n",
       "            fig.request_resize(ui.size.width, ui.size.height);\n",
       "        },\n",
       "    });\n",
       "\n",
       "    function mouse_event_fn(event) {\n",
       "        if (pass_mouse_events)\n",
       "            return fig.mouse_event(event, event['data']);\n",
       "    }\n",
       "\n",
       "    rubberband.mousedown('button_press', mouse_event_fn);\n",
       "    rubberband.mouseup('button_release', mouse_event_fn);\n",
       "    // Throttle sequential mouse events to 1 every 20ms.\n",
       "    rubberband.mousemove('motion_notify', mouse_event_fn);\n",
       "\n",
       "    rubberband.mouseenter('figure_enter', mouse_event_fn);\n",
       "    rubberband.mouseleave('figure_leave', mouse_event_fn);\n",
       "\n",
       "    canvas_div.on(\"wheel\", function (event) {\n",
       "        event = event.originalEvent;\n",
       "        event['data'] = 'scroll'\n",
       "        if (event.deltaY < 0) {\n",
       "            event.step = 1;\n",
       "        } else {\n",
       "            event.step = -1;\n",
       "        }\n",
       "        mouse_event_fn(event);\n",
       "    });\n",
       "\n",
       "    canvas_div.append(canvas);\n",
       "    canvas_div.append(rubberband);\n",
       "\n",
       "    this.rubberband = rubberband;\n",
       "    this.rubberband_canvas = rubberband[0];\n",
       "    this.rubberband_context = rubberband[0].getContext(\"2d\");\n",
       "    this.rubberband_context.strokeStyle = \"#000000\";\n",
       "\n",
       "    this._resize_canvas = function(width, height) {\n",
       "        // Keep the size of the canvas, canvas container, and rubber band\n",
       "        // canvas in synch.\n",
       "        canvas_div.css('width', width)\n",
       "        canvas_div.css('height', height)\n",
       "\n",
       "        canvas.attr('width', width * mpl.ratio);\n",
       "        canvas.attr('height', height * mpl.ratio);\n",
       "        canvas.attr('style', 'width: ' + width + 'px; height: ' + height + 'px;');\n",
       "\n",
       "        rubberband.attr('width', width);\n",
       "        rubberband.attr('height', height);\n",
       "    }\n",
       "\n",
       "    // Set the figure to an initial 600x600px, this will subsequently be updated\n",
       "    // upon first draw.\n",
       "    this._resize_canvas(600, 600);\n",
       "\n",
       "    // Disable right mouse context menu.\n",
       "    $(this.rubberband_canvas).bind(\"contextmenu\",function(e){\n",
       "        return false;\n",
       "    });\n",
       "\n",
       "    function set_focus () {\n",
       "        canvas.focus();\n",
       "        canvas_div.focus();\n",
       "    }\n",
       "\n",
       "    window.setTimeout(set_focus, 100);\n",
       "}\n",
       "\n",
       "mpl.figure.prototype._init_toolbar = function() {\n",
       "    var fig = this;\n",
       "\n",
       "    var nav_element = $('<div/>')\n",
       "    nav_element.attr('style', 'width: 100%');\n",
       "    this.root.append(nav_element);\n",
       "\n",
       "    // Define a callback function for later on.\n",
       "    function toolbar_event(event) {\n",
       "        return fig.toolbar_button_onclick(event['data']);\n",
       "    }\n",
       "    function toolbar_mouse_event(event) {\n",
       "        return fig.toolbar_button_onmouseover(event['data']);\n",
       "    }\n",
       "\n",
       "    for(var toolbar_ind in mpl.toolbar_items) {\n",
       "        var name = mpl.toolbar_items[toolbar_ind][0];\n",
       "        var tooltip = mpl.toolbar_items[toolbar_ind][1];\n",
       "        var image = mpl.toolbar_items[toolbar_ind][2];\n",
       "        var method_name = mpl.toolbar_items[toolbar_ind][3];\n",
       "\n",
       "        if (!name) {\n",
       "            // put a spacer in here.\n",
       "            continue;\n",
       "        }\n",
       "        var button = $('<button/>');\n",
       "        button.addClass('ui-button ui-widget ui-state-default ui-corner-all ' +\n",
       "                        'ui-button-icon-only');\n",
       "        button.attr('role', 'button');\n",
       "        button.attr('aria-disabled', 'false');\n",
       "        button.click(method_name, toolbar_event);\n",
       "        button.mouseover(tooltip, toolbar_mouse_event);\n",
       "\n",
       "        var icon_img = $('<span/>');\n",
       "        icon_img.addClass('ui-button-icon-primary ui-icon');\n",
       "        icon_img.addClass(image);\n",
       "        icon_img.addClass('ui-corner-all');\n",
       "\n",
       "        var tooltip_span = $('<span/>');\n",
       "        tooltip_span.addClass('ui-button-text');\n",
       "        tooltip_span.html(tooltip);\n",
       "\n",
       "        button.append(icon_img);\n",
       "        button.append(tooltip_span);\n",
       "\n",
       "        nav_element.append(button);\n",
       "    }\n",
       "\n",
       "    var fmt_picker_span = $('<span/>');\n",
       "\n",
       "    var fmt_picker = $('<select/>');\n",
       "    fmt_picker.addClass('mpl-toolbar-option ui-widget ui-widget-content');\n",
       "    fmt_picker_span.append(fmt_picker);\n",
       "    nav_element.append(fmt_picker_span);\n",
       "    this.format_dropdown = fmt_picker[0];\n",
       "\n",
       "    for (var ind in mpl.extensions) {\n",
       "        var fmt = mpl.extensions[ind];\n",
       "        var option = $(\n",
       "            '<option/>', {selected: fmt === mpl.default_extension}).html(fmt);\n",
       "        fmt_picker.append(option)\n",
       "    }\n",
       "\n",
       "    // Add hover states to the ui-buttons\n",
       "    $( \".ui-button\" ).hover(\n",
       "        function() { $(this).addClass(\"ui-state-hover\");},\n",
       "        function() { $(this).removeClass(\"ui-state-hover\");}\n",
       "    );\n",
       "\n",
       "    var status_bar = $('<span class=\"mpl-message\"/>');\n",
       "    nav_element.append(status_bar);\n",
       "    this.message = status_bar[0];\n",
       "}\n",
       "\n",
       "mpl.figure.prototype.request_resize = function(x_pixels, y_pixels) {\n",
       "    // Request matplotlib to resize the figure. Matplotlib will then trigger a resize in the client,\n",
       "    // which will in turn request a refresh of the image.\n",
       "    this.send_message('resize', {'width': x_pixels, 'height': y_pixels});\n",
       "}\n",
       "\n",
       "mpl.figure.prototype.send_message = function(type, properties) {\n",
       "    properties['type'] = type;\n",
       "    properties['figure_id'] = this.id;\n",
       "    this.ws.send(JSON.stringify(properties));\n",
       "}\n",
       "\n",
       "mpl.figure.prototype.send_draw_message = function() {\n",
       "    if (!this.waiting) {\n",
       "        this.waiting = true;\n",
       "        this.ws.send(JSON.stringify({type: \"draw\", figure_id: this.id}));\n",
       "    }\n",
       "}\n",
       "\n",
       "\n",
       "mpl.figure.prototype.handle_save = function(fig, msg) {\n",
       "    var format_dropdown = fig.format_dropdown;\n",
       "    var format = format_dropdown.options[format_dropdown.selectedIndex].value;\n",
       "    fig.ondownload(fig, format);\n",
       "}\n",
       "\n",
       "\n",
       "mpl.figure.prototype.handle_resize = function(fig, msg) {\n",
       "    var size = msg['size'];\n",
       "    if (size[0] != fig.canvas.width || size[1] != fig.canvas.height) {\n",
       "        fig._resize_canvas(size[0], size[1]);\n",
       "        fig.send_message(\"refresh\", {});\n",
       "    };\n",
       "}\n",
       "\n",
       "mpl.figure.prototype.handle_rubberband = function(fig, msg) {\n",
       "    var x0 = msg['x0'] / mpl.ratio;\n",
       "    var y0 = (fig.canvas.height - msg['y0']) / mpl.ratio;\n",
       "    var x1 = msg['x1'] / mpl.ratio;\n",
       "    var y1 = (fig.canvas.height - msg['y1']) / mpl.ratio;\n",
       "    x0 = Math.floor(x0) + 0.5;\n",
       "    y0 = Math.floor(y0) + 0.5;\n",
       "    x1 = Math.floor(x1) + 0.5;\n",
       "    y1 = Math.floor(y1) + 0.5;\n",
       "    var min_x = Math.min(x0, x1);\n",
       "    var min_y = Math.min(y0, y1);\n",
       "    var width = Math.abs(x1 - x0);\n",
       "    var height = Math.abs(y1 - y0);\n",
       "\n",
       "    fig.rubberband_context.clearRect(\n",
       "        0, 0, fig.canvas.width, fig.canvas.height);\n",
       "\n",
       "    fig.rubberband_context.strokeRect(min_x, min_y, width, height);\n",
       "}\n",
       "\n",
       "mpl.figure.prototype.handle_figure_label = function(fig, msg) {\n",
       "    // Updates the figure title.\n",
       "    fig.header.textContent = msg['label'];\n",
       "}\n",
       "\n",
       "mpl.figure.prototype.handle_cursor = function(fig, msg) {\n",
       "    var cursor = msg['cursor'];\n",
       "    switch(cursor)\n",
       "    {\n",
       "    case 0:\n",
       "        cursor = 'pointer';\n",
       "        break;\n",
       "    case 1:\n",
       "        cursor = 'default';\n",
       "        break;\n",
       "    case 2:\n",
       "        cursor = 'crosshair';\n",
       "        break;\n",
       "    case 3:\n",
       "        cursor = 'move';\n",
       "        break;\n",
       "    }\n",
       "    fig.rubberband_canvas.style.cursor = cursor;\n",
       "}\n",
       "\n",
       "mpl.figure.prototype.handle_message = function(fig, msg) {\n",
       "    fig.message.textContent = msg['message'];\n",
       "}\n",
       "\n",
       "mpl.figure.prototype.handle_draw = function(fig, msg) {\n",
       "    // Request the server to send over a new figure.\n",
       "    fig.send_draw_message();\n",
       "}\n",
       "\n",
       "mpl.figure.prototype.handle_image_mode = function(fig, msg) {\n",
       "    fig.image_mode = msg['mode'];\n",
       "}\n",
       "\n",
       "mpl.figure.prototype.updated_canvas_event = function() {\n",
       "    // Called whenever the canvas gets updated.\n",
       "    this.send_message(\"ack\", {});\n",
       "}\n",
       "\n",
       "// A function to construct a web socket function for onmessage handling.\n",
       "// Called in the figure constructor.\n",
       "mpl.figure.prototype._make_on_message_function = function(fig) {\n",
       "    return function socket_on_message(evt) {\n",
       "        if (evt.data instanceof Blob) {\n",
       "            /* FIXME: We get \"Resource interpreted as Image but\n",
       "             * transferred with MIME type text/plain:\" errors on\n",
       "             * Chrome.  But how to set the MIME type?  It doesn't seem\n",
       "             * to be part of the websocket stream */\n",
       "            evt.data.type = \"image/png\";\n",
       "\n",
       "            /* Free the memory for the previous frames */\n",
       "            if (fig.imageObj.src) {\n",
       "                (window.URL || window.webkitURL).revokeObjectURL(\n",
       "                    fig.imageObj.src);\n",
       "            }\n",
       "\n",
       "            fig.imageObj.src = (window.URL || window.webkitURL).createObjectURL(\n",
       "                evt.data);\n",
       "            fig.updated_canvas_event();\n",
       "            fig.waiting = false;\n",
       "            return;\n",
       "        }\n",
       "        else if (typeof evt.data === 'string' && evt.data.slice(0, 21) == \"data:image/png;base64\") {\n",
       "            fig.imageObj.src = evt.data;\n",
       "            fig.updated_canvas_event();\n",
       "            fig.waiting = false;\n",
       "            return;\n",
       "        }\n",
       "\n",
       "        var msg = JSON.parse(evt.data);\n",
       "        var msg_type = msg['type'];\n",
       "\n",
       "        // Call the  \"handle_{type}\" callback, which takes\n",
       "        // the figure and JSON message as its only arguments.\n",
       "        try {\n",
       "            var callback = fig[\"handle_\" + msg_type];\n",
       "        } catch (e) {\n",
       "            console.log(\"No handler for the '\" + msg_type + \"' message type: \", msg);\n",
       "            return;\n",
       "        }\n",
       "\n",
       "        if (callback) {\n",
       "            try {\n",
       "                // console.log(\"Handling '\" + msg_type + \"' message: \", msg);\n",
       "                callback(fig, msg);\n",
       "            } catch (e) {\n",
       "                console.log(\"Exception inside the 'handler_\" + msg_type + \"' callback:\", e, e.stack, msg);\n",
       "            }\n",
       "        }\n",
       "    };\n",
       "}\n",
       "\n",
       "// from http://stackoverflow.com/questions/1114465/getting-mouse-location-in-canvas\n",
       "mpl.findpos = function(e) {\n",
       "    //this section is from http://www.quirksmode.org/js/events_properties.html\n",
       "    var targ;\n",
       "    if (!e)\n",
       "        e = window.event;\n",
       "    if (e.target)\n",
       "        targ = e.target;\n",
       "    else if (e.srcElement)\n",
       "        targ = e.srcElement;\n",
       "    if (targ.nodeType == 3) // defeat Safari bug\n",
       "        targ = targ.parentNode;\n",
       "\n",
       "    // jQuery normalizes the pageX and pageY\n",
       "    // pageX,Y are the mouse positions relative to the document\n",
       "    // offset() returns the position of the element relative to the document\n",
       "    var x = e.pageX - $(targ).offset().left;\n",
       "    var y = e.pageY - $(targ).offset().top;\n",
       "\n",
       "    return {\"x\": x, \"y\": y};\n",
       "};\n",
       "\n",
       "/*\n",
       " * return a copy of an object with only non-object keys\n",
       " * we need this to avoid circular references\n",
       " * http://stackoverflow.com/a/24161582/3208463\n",
       " */\n",
       "function simpleKeys (original) {\n",
       "  return Object.keys(original).reduce(function (obj, key) {\n",
       "    if (typeof original[key] !== 'object')\n",
       "        obj[key] = original[key]\n",
       "    return obj;\n",
       "  }, {});\n",
       "}\n",
       "\n",
       "mpl.figure.prototype.mouse_event = function(event, name) {\n",
       "    var canvas_pos = mpl.findpos(event)\n",
       "\n",
       "    if (name === 'button_press')\n",
       "    {\n",
       "        this.canvas.focus();\n",
       "        this.canvas_div.focus();\n",
       "    }\n",
       "\n",
       "    var x = canvas_pos.x * mpl.ratio;\n",
       "    var y = canvas_pos.y * mpl.ratio;\n",
       "\n",
       "    this.send_message(name, {x: x, y: y, button: event.button,\n",
       "                             step: event.step,\n",
       "                             guiEvent: simpleKeys(event)});\n",
       "\n",
       "    /* This prevents the web browser from automatically changing to\n",
       "     * the text insertion cursor when the button is pressed.  We want\n",
       "     * to control all of the cursor setting manually through the\n",
       "     * 'cursor' event from matplotlib */\n",
       "    event.preventDefault();\n",
       "    return false;\n",
       "}\n",
       "\n",
       "mpl.figure.prototype._key_event_extra = function(event, name) {\n",
       "    // Handle any extra behaviour associated with a key event\n",
       "}\n",
       "\n",
       "mpl.figure.prototype.key_event = function(event, name) {\n",
       "\n",
       "    // Prevent repeat events\n",
       "    if (name == 'key_press')\n",
       "    {\n",
       "        if (event.which === this._key)\n",
       "            return;\n",
       "        else\n",
       "            this._key = event.which;\n",
       "    }\n",
       "    if (name == 'key_release')\n",
       "        this._key = null;\n",
       "\n",
       "    var value = '';\n",
       "    if (event.ctrlKey && event.which != 17)\n",
       "        value += \"ctrl+\";\n",
       "    if (event.altKey && event.which != 18)\n",
       "        value += \"alt+\";\n",
       "    if (event.shiftKey && event.which != 16)\n",
       "        value += \"shift+\";\n",
       "\n",
       "    value += 'k';\n",
       "    value += event.which.toString();\n",
       "\n",
       "    this._key_event_extra(event, name);\n",
       "\n",
       "    this.send_message(name, {key: value,\n",
       "                             guiEvent: simpleKeys(event)});\n",
       "    return false;\n",
       "}\n",
       "\n",
       "mpl.figure.prototype.toolbar_button_onclick = function(name) {\n",
       "    if (name == 'download') {\n",
       "        this.handle_save(this, null);\n",
       "    } else {\n",
       "        this.send_message(\"toolbar_button\", {name: name});\n",
       "    }\n",
       "};\n",
       "\n",
       "mpl.figure.prototype.toolbar_button_onmouseover = function(tooltip) {\n",
       "    this.message.textContent = tooltip;\n",
       "};\n",
       "mpl.toolbar_items = [[\"Home\", \"Reset original view\", \"fa fa-home icon-home\", \"home\"], [\"Back\", \"Back to  previous view\", \"fa fa-arrow-left icon-arrow-left\", \"back\"], [\"Forward\", \"Forward to next view\", \"fa fa-arrow-right icon-arrow-right\", \"forward\"], [\"\", \"\", \"\", \"\"], [\"Pan\", \"Pan axes with left mouse, zoom with right\", \"fa fa-arrows icon-move\", \"pan\"], [\"Zoom\", \"Zoom to rectangle\", \"fa fa-square-o icon-check-empty\", \"zoom\"], [\"\", \"\", \"\", \"\"], [\"Download\", \"Download plot\", \"fa fa-floppy-o icon-save\", \"download\"]];\n",
       "\n",
       "mpl.extensions = [\"eps\", \"pdf\", \"png\", \"ps\", \"raw\", \"svg\"];\n",
       "\n",
       "mpl.default_extension = \"png\";var comm_websocket_adapter = function(comm) {\n",
       "    // Create a \"websocket\"-like object which calls the given IPython comm\n",
       "    // object with the appropriate methods. Currently this is a non binary\n",
       "    // socket, so there is still some room for performance tuning.\n",
       "    var ws = {};\n",
       "\n",
       "    ws.close = function() {\n",
       "        comm.close()\n",
       "    };\n",
       "    ws.send = function(m) {\n",
       "        //console.log('sending', m);\n",
       "        comm.send(m);\n",
       "    };\n",
       "    // Register the callback with on_msg.\n",
       "    comm.on_msg(function(msg) {\n",
       "        //console.log('receiving', msg['content']['data'], msg);\n",
       "        // Pass the mpl event to the overriden (by mpl) onmessage function.\n",
       "        ws.onmessage(msg['content']['data'])\n",
       "    });\n",
       "    return ws;\n",
       "}\n",
       "\n",
       "mpl.mpl_figure_comm = function(comm, msg) {\n",
       "    // This is the function which gets called when the mpl process\n",
       "    // starts-up an IPython Comm through the \"matplotlib\" channel.\n",
       "\n",
       "    var id = msg.content.data.id;\n",
       "    // Get hold of the div created by the display call when the Comm\n",
       "    // socket was opened in Python.\n",
       "    var element = $(\"#\" + id);\n",
       "    var ws_proxy = comm_websocket_adapter(comm)\n",
       "\n",
       "    function ondownload(figure, format) {\n",
       "        window.open(figure.imageObj.src);\n",
       "    }\n",
       "\n",
       "    var fig = new mpl.figure(id, ws_proxy,\n",
       "                           ondownload,\n",
       "                           element.get(0));\n",
       "\n",
       "    // Call onopen now - mpl needs it, as it is assuming we've passed it a real\n",
       "    // web socket which is closed, not our websocket->open comm proxy.\n",
       "    ws_proxy.onopen();\n",
       "\n",
       "    fig.parent_element = element.get(0);\n",
       "    fig.cell_info = mpl.find_output_cell(\"<div id='\" + id + \"'></div>\");\n",
       "    if (!fig.cell_info) {\n",
       "        console.error(\"Failed to find cell for figure\", id, fig);\n",
       "        return;\n",
       "    }\n",
       "\n",
       "    var output_index = fig.cell_info[2]\n",
       "    var cell = fig.cell_info[0];\n",
       "\n",
       "};\n",
       "\n",
       "mpl.figure.prototype.handle_close = function(fig, msg) {\n",
       "    var width = fig.canvas.width/mpl.ratio\n",
       "    fig.root.unbind('remove')\n",
       "\n",
       "    // Update the output cell to use the data from the current canvas.\n",
       "    fig.push_to_output();\n",
       "    var dataURL = fig.canvas.toDataURL();\n",
       "    // Re-enable the keyboard manager in IPython - without this line, in FF,\n",
       "    // the notebook keyboard shortcuts fail.\n",
       "    IPython.keyboard_manager.enable()\n",
       "    $(fig.parent_element).html('<img src=\"' + dataURL + '\" width=\"' + width + '\">');\n",
       "    fig.close_ws(fig, msg);\n",
       "}\n",
       "\n",
       "mpl.figure.prototype.close_ws = function(fig, msg){\n",
       "    fig.send_message('closing', msg);\n",
       "    // fig.ws.close()\n",
       "}\n",
       "\n",
       "mpl.figure.prototype.push_to_output = function(remove_interactive) {\n",
       "    // Turn the data on the canvas into data in the output cell.\n",
       "    var width = this.canvas.width/mpl.ratio\n",
       "    var dataURL = this.canvas.toDataURL();\n",
       "    this.cell_info[1]['text/html'] = '<img src=\"' + dataURL + '\" width=\"' + width + '\">';\n",
       "}\n",
       "\n",
       "mpl.figure.prototype.updated_canvas_event = function() {\n",
       "    // Tell IPython that the notebook contents must change.\n",
       "    IPython.notebook.set_dirty(true);\n",
       "    this.send_message(\"ack\", {});\n",
       "    var fig = this;\n",
       "    // Wait a second, then push the new image to the DOM so\n",
       "    // that it is saved nicely (might be nice to debounce this).\n",
       "    setTimeout(function () { fig.push_to_output() }, 1000);\n",
       "}\n",
       "\n",
       "mpl.figure.prototype._init_toolbar = function() {\n",
       "    var fig = this;\n",
       "\n",
       "    var nav_element = $('<div/>')\n",
       "    nav_element.attr('style', 'width: 100%');\n",
       "    this.root.append(nav_element);\n",
       "\n",
       "    // Define a callback function for later on.\n",
       "    function toolbar_event(event) {\n",
       "        return fig.toolbar_button_onclick(event['data']);\n",
       "    }\n",
       "    function toolbar_mouse_event(event) {\n",
       "        return fig.toolbar_button_onmouseover(event['data']);\n",
       "    }\n",
       "\n",
       "    for(var toolbar_ind in mpl.toolbar_items){\n",
       "        var name = mpl.toolbar_items[toolbar_ind][0];\n",
       "        var tooltip = mpl.toolbar_items[toolbar_ind][1];\n",
       "        var image = mpl.toolbar_items[toolbar_ind][2];\n",
       "        var method_name = mpl.toolbar_items[toolbar_ind][3];\n",
       "\n",
       "        if (!name) { continue; };\n",
       "\n",
       "        var button = $('<button class=\"btn btn-default\" href=\"#\" title=\"' + name + '\"><i class=\"fa ' + image + ' fa-lg\"></i></button>');\n",
       "        button.click(method_name, toolbar_event);\n",
       "        button.mouseover(tooltip, toolbar_mouse_event);\n",
       "        nav_element.append(button);\n",
       "    }\n",
       "\n",
       "    // Add the status bar.\n",
       "    var status_bar = $('<span class=\"mpl-message\" style=\"text-align:right; float: right;\"/>');\n",
       "    nav_element.append(status_bar);\n",
       "    this.message = status_bar[0];\n",
       "\n",
       "    // Add the close button to the window.\n",
       "    var buttongrp = $('<div class=\"btn-group inline pull-right\"></div>');\n",
       "    var button = $('<button class=\"btn btn-mini btn-primary\" href=\"#\" title=\"Stop Interaction\"><i class=\"fa fa-power-off icon-remove icon-large\"></i></button>');\n",
       "    button.click(function (evt) { fig.handle_close(fig, {}); } );\n",
       "    button.mouseover('Stop Interaction', toolbar_mouse_event);\n",
       "    buttongrp.append(button);\n",
       "    var titlebar = this.root.find($('.ui-dialog-titlebar'));\n",
       "    titlebar.prepend(buttongrp);\n",
       "}\n",
       "\n",
       "mpl.figure.prototype._root_extra_style = function(el){\n",
       "    var fig = this\n",
       "    el.on(\"remove\", function(){\n",
       "\tfig.close_ws(fig, {});\n",
       "    });\n",
       "}\n",
       "\n",
       "mpl.figure.prototype._canvas_extra_style = function(el){\n",
       "    // this is important to make the div 'focusable\n",
       "    el.attr('tabindex', 0)\n",
       "    // reach out to IPython and tell the keyboard manager to turn it's self\n",
       "    // off when our div gets focus\n",
       "\n",
       "    // location in version 3\n",
       "    if (IPython.notebook.keyboard_manager) {\n",
       "        IPython.notebook.keyboard_manager.register_events(el);\n",
       "    }\n",
       "    else {\n",
       "        // location in version 2\n",
       "        IPython.keyboard_manager.register_events(el);\n",
       "    }\n",
       "\n",
       "}\n",
       "\n",
       "mpl.figure.prototype._key_event_extra = function(event, name) {\n",
       "    var manager = IPython.notebook.keyboard_manager;\n",
       "    if (!manager)\n",
       "        manager = IPython.keyboard_manager;\n",
       "\n",
       "    // Check for shift+enter\n",
       "    if (event.shiftKey && event.which == 13) {\n",
       "        this.canvas_div.blur();\n",
       "        // select the cell after this one\n",
       "        var index = IPython.notebook.find_cell_index(this.cell_info[0]);\n",
       "        IPython.notebook.select(index + 1);\n",
       "    }\n",
       "}\n",
       "\n",
       "mpl.figure.prototype.handle_save = function(fig, msg) {\n",
       "    fig.ondownload(fig, null);\n",
       "}\n",
       "\n",
       "\n",
       "mpl.find_output_cell = function(html_output) {\n",
       "    // Return the cell and output element which can be found *uniquely* in the notebook.\n",
       "    // Note - this is a bit hacky, but it is done because the \"notebook_saving.Notebook\"\n",
       "    // IPython event is triggered only after the cells have been serialised, which for\n",
       "    // our purposes (turning an active figure into a static one), is too late.\n",
       "    var cells = IPython.notebook.get_cells();\n",
       "    var ncells = cells.length;\n",
       "    for (var i=0; i<ncells; i++) {\n",
       "        var cell = cells[i];\n",
       "        if (cell.cell_type === 'code'){\n",
       "            for (var j=0; j<cell.output_area.outputs.length; j++) {\n",
       "                var data = cell.output_area.outputs[j];\n",
       "                if (data.data) {\n",
       "                    // IPython >= 3 moved mimebundle to data attribute of output\n",
       "                    data = data.data;\n",
       "                }\n",
       "                if (data['text/html'] == html_output) {\n",
       "                    return [cell, data, j];\n",
       "                }\n",
       "            }\n",
       "        }\n",
       "    }\n",
       "}\n",
       "\n",
       "// Register the function which deals with the matplotlib target/channel.\n",
       "// The kernel may be null if the page has been refreshed.\n",
       "if (IPython.notebook.kernel != null) {\n",
       "    IPython.notebook.kernel.comm_manager.register_target('matplotlib', mpl.mpl_figure_comm);\n",
       "}\n"
      ],
      "text/plain": [
       "<IPython.core.display.Javascript object>"
      ]
     },
     "metadata": {},
     "output_type": "display_data"
    },
    {
     "data": {
      "text/html": [
       "<img src=\"data:image/png;base64,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\" width=\"640\">"
      ],
      "text/plain": [
       "<IPython.core.display.HTML object>"
      ]
     },
     "metadata": {},
     "output_type": "display_data"
    },
    {
     "name": "stderr",
     "output_type": "stream",
     "text": [
      "IOPub data rate exceeded.\n",
      "The notebook server will temporarily stop sending output\n",
      "to the client in order to avoid crashing it.\n",
      "To change this limit, set the config variable\n",
      "`--NotebookApp.iopub_data_rate_limit`.\n"
     ]
    }
   ],
   "source": [
    "bikeshare = System(olin=10, wellesley=2)\n",
    "newfig()\n",
    "plot_system(bikeshare)\n",
    "decorate_bikeshare()\n",
    "run_steps(bikeshare, 60, 0.4, 0.2)"
   ]
  },
  {
   "cell_type": "markdown",
   "metadata": {},
   "source": [
    "The variables `olin` and `wellesley` are created inside `move_bike`, so they are local.  When the function ends, they go away.\n",
    "\n",
    "If you try to access a local variable from outside its function, you get an error:"
   ]
  },
  {
   "cell_type": "code",
   "execution_count": 14,
   "metadata": {
    "collapsed": true
   },
   "outputs": [],
   "source": [
    "# If you remove the # from the last line in this cell and run it, you'll get\n",
    "# NameError: name 'olin' is not defined\n",
    "\n",
    "#olin"
   ]
  },
  {
   "cell_type": "markdown",
   "metadata": {},
   "source": [
    "**Exercise:** Add print statements in `move_bike` so it prints a message each time a customer arrives and doesn't find a bike.  Run the simulation again to confirm that it works as you expect.  Then you might want to remove the print statements before you go on."
   ]
  },
  {
   "cell_type": "markdown",
   "metadata": {},
   "source": [
    "## Comparison operators"
   ]
  },
  {
   "cell_type": "markdown",
   "metadata": {},
   "source": [
    "The `if` statements in the previous section used the comparison operator `<`.  The other comparison operators are listed in the book.\n",
    "\n",
    "It is easy to confuse the comparison operator `==` with the assignment operator `=`.\n",
    "\n",
    "Remember that `=` creates a variable or gives an existing variable a new value."
   ]
  },
  {
   "cell_type": "code",
   "execution_count": 15,
   "metadata": {
    "collapsed": true
   },
   "outputs": [],
   "source": [
    "x = 5"
   ]
  },
  {
   "cell_type": "markdown",
   "metadata": {},
   "source": [
    "Whereas `==` compared two values and returns `True` if they are equal."
   ]
  },
  {
   "cell_type": "code",
   "execution_count": 16,
   "metadata": {},
   "outputs": [
    {
     "data": {
      "text/plain": [
       "True"
      ]
     },
     "execution_count": 16,
     "metadata": {},
     "output_type": "execute_result"
    }
   ],
   "source": [
    "x == 5"
   ]
  },
  {
   "cell_type": "markdown",
   "metadata": {},
   "source": [
    "You can use `==` in an `if` statement."
   ]
  },
  {
   "cell_type": "code",
   "execution_count": 17,
   "metadata": {},
   "outputs": [
    {
     "name": "stdout",
     "output_type": "stream",
     "text": [
      "no, x is not 5\n"
     ]
    }
   ],
   "source": [
    "if x != 5:\n",
    "    print('yes, x is 5')\n",
    "else:\n",
    "    print('no, x is not 5')"
   ]
  },
  {
   "cell_type": "markdown",
   "metadata": {},
   "source": [
    "But if you use `=` in an `if` statement, you get an error."
   ]
  },
  {
   "cell_type": "code",
   "execution_count": 18,
   "metadata": {
    "collapsed": true
   },
   "outputs": [],
   "source": [
    "# If you remove the # from the if statement and run it, you'll get\n",
    "# SyntaxError: invalid syntax\n",
    "\n",
    "#if x = 5:\n",
    "#    print('yes, x is 5')"
   ]
  },
  {
   "cell_type": "markdown",
   "metadata": {},
   "source": [
    "**Exercise:** Add an `else` clause to the `if` statement above, and print an appropriate message.\n",
    "\n",
    "Replace the `==` operator with one or two of the other comparison operators, and confirm they do what you expect."
   ]
  },
  {
   "cell_type": "markdown",
   "metadata": {},
   "source": [
    "## Metrics"
   ]
  },
  {
   "cell_type": "markdown",
   "metadata": {},
   "source": [
    "Now that we have a working simulation, we'll use it to evaluate alternative designs and see how good or bad they are.  The metric we'll use is the number of customers who arrive and find no bikes available, which might indicate a design problem."
   ]
  },
  {
   "cell_type": "markdown",
   "metadata": {},
   "source": [
    "First we'll make a new `System` object that creates and initializes the system variables that will keep track of the metrics."
   ]
  },
  {
   "cell_type": "code",
   "execution_count": 27,
   "metadata": {},
   "outputs": [],
   "source": [
    "bikeshare = System(olin=10, wellesley=2, \n",
    "                  olin_empty=0, wellesley_empty=0)"
   ]
  },
  {
   "cell_type": "markdown",
   "metadata": {},
   "source": [
    "Next we need a version of `move_bike` that updates the metrics."
   ]
  },
  {
   "cell_type": "code",
   "execution_count": 20,
   "metadata": {
    "collapsed": true
   },
   "outputs": [],
   "source": [
    "def move_bike(system, n):\n",
    "    olin_temp = system.olin - n\n",
    "    if olin_temp < 0:\n",
    "        system.olin_empty += 1\n",
    "        return\n",
    "    \n",
    "    wellesley_temp = system.wellesley + n\n",
    "    if wellesley_temp < 0:\n",
    "        system.wellesley_empty += 1\n",
    "        return\n",
    "    \n",
    "    system.olin = olin_temp\n",
    "    system.wellesley = wellesley_temp"
   ]
  },
  {
   "cell_type": "markdown",
   "metadata": {},
   "source": [
    "Now when we run a simulation, it keeps track of unhappy customers."
   ]
  },
  {
   "cell_type": "code",
   "execution_count": 24,
   "metadata": {},
   "outputs": [
    {
     "data": {
      "image/png": "[encoded data removed]",
      "text/plain": [
       "<matplotlib.figure.Figure at 0x27351503470>"
      ]
     },
     "metadata": {},
     "output_type": "display_data"
    }
   ],
   "source": [
    "newfig()\n",
    "plot_system(bikeshare)\n",
    "decorate_bikeshare()\n",
    "run_steps(bikeshare, 60, 0.4, 0.2)"
   ]
  },
  {
   "cell_type": "markdown",
   "metadata": {},
   "source": [
    "After the simulation, we can print the number of unhappy customers at each location."
   ]
  },
  {
   "cell_type": "code",
   "execution_count": 25,
   "metadata": {},
   "outputs": [
    {
     "data": {
      "text/plain": [
       "10"
      ]
     },
     "execution_count": 25,
     "metadata": {},
     "output_type": "execute_result"
    }
   ],
   "source": [
    "bikeshare.olin_empty"
   ]
  },
  {
   "cell_type": "code",
   "execution_count": 26,
   "metadata": {},
   "outputs": [
    {
     "data": {
      "text/plain": [
       "0"
      ]
     },
     "execution_count": 26,
     "metadata": {},
     "output_type": "execute_result"
    }
   ],
   "source": [
    "bikeshare.wellesley_empty"
   ]
  },
  {
   "cell_type": "markdown",
   "metadata": {},
   "source": [
    "**Exercise:** Let's add a \"clock\" to keep track of how many time steps have elapsed:\n",
    "\n",
    "1. Add a new system variable named `clock` to `bikeshare`, initialized to 0, and \n",
    "\n",
    "2. Modify `step` so it increments (adds one to) `clock` each time it is invoked.\n",
    "\n",
    "Test your code by adding a print statement that prints the value of `clock` at the beginning of each time step."
   ]
  },
  {
   "cell_type": "code",
   "execution_count": 26,
   "metadata": {
    "collapsed": true
   },
   "outputs": [],
   "source": [
    "# Here's a copy of step to get you started\n",
    "\n",
    "def step(system, p1=0.5, p2=0.5):\n",
    "    \"\"\"Simulate one minute of time.\n",
    "    \n",
    "    system: bikeshare System object\n",
    "    p1: probability of an Olin->Wellesley customer arrival\n",
    "    p2: probability of a Wellesley->Olin customer arrival\n",
    "    \"\"\"\n",
    "    if flip(p1):\n",
    "        bike_to_wellesley(system)\n",
    "    \n",
    "    if flip(p2):\n",
    "        bike_to_olin(system)"
   ]
  },
  {
   "cell_type": "code",
   "execution_count": 30,
   "metadata": {
    "collapsed": true
   },
   "outputs": [],
   "source": [
    "# Solution goes here\n",
    "bikeshare = System(olin=10, wellesley=2, \n",
    "                  olin_empty=0, wellesley_empty=0, clock = 0)"
   ]
  },
  {
   "cell_type": "code",
   "execution_count": 41,
   "metadata": {
    "collapsed": true
   },
   "outputs": [],
   "source": [
    "# Solution goes here\n",
    "def step(system, p1=0.5, p2=0.5):\n",
    "    \"\"\"Simulate one minute of time.\n",
    "    \n",
    "    system: bikeshare System object\n",
    "    p1: probability of an Olin->Wellesley customer arrival\n",
    "    p2: probability of a Wellesley->Olin customer arrival\n",
    "    \"\"\"\n",
    "    system.clock += 1\n",
    "    if flip(p1):\n",
    "        bike_to_wellesley(system)\n",
    "    \n",
    "    if flip(p2):\n",
    "        bike_to_olin(system)"
   ]
  },
  {
   "cell_type": "code",
   "execution_count": 32,
   "metadata": {},
   "outputs": [
    {
     "name": "stdout",
     "output_type": "stream",
     "text": [
      "1\n",
      "2\n",
      "3\n",
      "4\n",
      "5\n"
     ]
    }
   ],
   "source": [
    "# Solution goes here\n",
    "step(bikeshare)\n",
    "print(bikeshare.clock)\n",
    "step(bikeshare)\n",
    "print(bikeshare.clock)\n",
    "step(bikeshare)\n",
    "print(bikeshare.clock)\n",
    "step(bikeshare)\n",
    "print(bikeshare.clock)\n",
    "step(bikeshare)\n",
    "print(bikeshare.clock)"
   ]
  },
  {
   "cell_type": "markdown",
   "metadata": {},
   "source": [
    "After the simulation, check the final value of `clock`."
   ]
  },
  {
   "cell_type": "code",
   "execution_count": 34,
   "metadata": {},
   "outputs": [
    {
     "name": "stdout",
     "output_type": "stream",
     "text": [
      "5\n"
     ]
    }
   ],
   "source": [
    "print(bikeshare.clock)"
   ]
  },
  {
   "cell_type": "markdown",
   "metadata": {},
   "source": [
    "**Exercise:** Now suppose we'd like to know how long it takes to run out of bikes at either location.  Modify `move_bike` so the first time a student arrives at Olin and doesn't find a bike, it records the value of `clock` in a system variable.\n",
    "\n",
    "Hint: create a system variable named `t_first_empty` and initialize it to `-1` to indicate that it has not been set yet.\n",
    "\n",
    "Test your code by running a simulation for 60 minutes and checking the metrics."
   ]
  },
  {
   "cell_type": "code",
   "execution_count": 64,
   "metadata": {
    "collapsed": true
   },
   "outputs": [],
   "source": [
    "# Solution goes here\n",
    "bikeshare = System(olin=10, wellesley=2, \n",
    "                  olin_empty=0, wellesley_empty=0, clock = 0, t_first_empty = -1)"
   ]
  },
  {
   "cell_type": "code",
   "execution_count": 65,
   "metadata": {
    "collapsed": true
   },
   "outputs": [],
   "source": [
    "# Solution goes here\n",
    "def move_bike(system, n):\n",
    "    olin_temp = system.olin - n\n",
    "    if olin_temp < 0:\n",
    "        system.olin_empty += 1\n",
    "        if system.t_first_empty == -1:\n",
    "            system.t_first_empty = system.clock\n",
    "        return\n",
    "    \n",
    "    wellesley_temp = system.wellesley + n\n",
    "    if wellesley_temp < 0:\n",
    "        system.wellesley_empty += 1\n",
    "        return\n",
    "    \n",
    "    system.olin = olin_temp\n",
    "    system.wellesley = wellesley_temp"
   ]
  },
  {
   "cell_type": "code",
   "execution_count": 66,
   "metadata": {},
   "outputs": [
    {
     "data": {
      "image/png": "[encoded data removed]",
      "text/plain": [
       "<matplotlib.figure.Figure at 0x27351c54d30>"
      ]
     },
     "metadata": {},
     "output_type": "display_data"
    }
   ],
   "source": [
    "# Solution goes here\n",
    "run_steps(bikeshare, 60, 0.4, 0.2)"
   ]
  },
  {
   "cell_type": "markdown",
   "metadata": {},
   "source": [
    "After the simulation, check the final value of `t_first_empty`."
   ]
  },
  {
   "cell_type": "code",
   "execution_count": 67,
   "metadata": {},
   "outputs": [
    {
     "name": "stdout",
     "output_type": "stream",
     "text": [
      "34\n"
     ]
    }
   ],
   "source": [
    "print(bikeshare.t_first_empty)"
   ]
  },
  {
   "cell_type": "markdown",
   "metadata": {},
   "source": [
    "Before we go on, let's put `step` and `move_bike` back the way we found them, so they don't break the examples below."
   ]
  },
  {
   "cell_type": "code",
   "execution_count": 68,
   "metadata": {
    "collapsed": true
   },
   "outputs": [],
   "source": [
    "def step(system, p1=0.5, p2=0.5):\n",
    "    if flip(p1):\n",
    "        bike_to_wellesley(system)\n",
    "    \n",
    "    if flip(p2):\n",
    "        bike_to_olin(system)\n",
    "\n",
    "def move_bike(system, n):\n",
    "    olin_temp = system.olin - n\n",
    "    if olin_temp < 0:\n",
    "        system.olin_empty += 1\n",
    "        return\n",
    "    \n",
    "    wellesley_temp = system.wellesley + n\n",
    "    if wellesley_temp < 0:\n",
    "        system.wellesley_empty += 1\n",
    "        return\n",
    "    \n",
    "    system.olin = olin_temp\n",
    "    system.wellesley = wellesley_temp"
   ]
  },
  {
   "cell_type": "markdown",
   "metadata": {},
   "source": [
    "## Returning values"
   ]
  },
  {
   "cell_type": "markdown",
   "metadata": {},
   "source": [
    "Here's a simple function that returns a value:"
   ]
  },
  {
   "cell_type": "code",
   "execution_count": 69,
   "metadata": {
    "collapsed": true
   },
   "outputs": [],
   "source": [
    "def add_five(x):\n",
    "    return x + 5"
   ]
  },
  {
   "cell_type": "markdown",
   "metadata": {},
   "source": [
    "And here's how we call it."
   ]
  },
  {
   "cell_type": "code",
   "execution_count": 70,
   "metadata": {},
   "outputs": [
    {
     "data": {
      "text/plain": [
       "8"
      ]
     },
     "execution_count": 70,
     "metadata": {},
     "output_type": "execute_result"
    }
   ],
   "source": [
    "y = add_five(3)\n",
    "y"
   ]
  },
  {
   "cell_type": "markdown",
   "metadata": {},
   "source": [
    "If you run a function on the last line of a cell, Jupyter displays the result:"
   ]
  },
  {
   "cell_type": "code",
   "execution_count": 71,
   "metadata": {},
   "outputs": [
    {
     "data": {
      "text/plain": [
       "10"
      ]
     },
     "execution_count": 71,
     "metadata": {},
     "output_type": "execute_result"
    }
   ],
   "source": [
    "add_five(5)"
   ]
  },
  {
   "cell_type": "markdown",
   "metadata": {
    "collapsed": true
   },
   "source": [
    "But that can be a bad habit, because usually if you call a function and don't assign the result in a variable, the result gets discarded.\n",
    "\n",
    "In the following example, Jupyter shows the second result, but the first result just disappears."
   ]
  },
  {
   "cell_type": "code",
   "execution_count": 72,
   "metadata": {},
   "outputs": [
    {
     "data": {
      "text/plain": [
       "10"
      ]
     },
     "execution_count": 72,
     "metadata": {},
     "output_type": "execute_result"
    }
   ],
   "source": [
    "add_five(3)\n",
    "add_five(5)"
   ]
  },
  {
   "cell_type": "markdown",
   "metadata": {
    "collapsed": true
   },
   "source": [
    "When you call a function that returns a variable, it is generally a good idea to assign the result to a variable."
   ]
  },
  {
   "cell_type": "code",
   "execution_count": 73,
   "metadata": {},
   "outputs": [
    {
     "name": "stdout",
     "output_type": "stream",
     "text": [
      "8 10\n"
     ]
    }
   ],
   "source": [
    "y1 = add_five(3)\n",
    "y2 = add_five(5)\n",
    "\n",
    "print(y1, y2)"
   ]
  },
  {
   "cell_type": "markdown",
   "metadata": {},
   "source": [
    "**Exercise:** Write a function called `make_system` that creates a `System` object with the system variables `olin=10` and `wellesley=2`, and then returns the new `System` object.\n",
    "\n",
    "Write a line of code that calls `make_system` and assigns the result to a variable."
   ]
  },
  {
   "cell_type": "code",
   "execution_count": 77,
   "metadata": {
    "collapsed": true
   },
   "outputs": [],
   "source": [
    "# Solution goes here\n",
    "def make_system():\n",
    "    return System(olin = 10, wellesley = 2)"
   ]
  },
  {
   "cell_type": "code",
   "execution_count": 78,
   "metadata": {},
   "outputs": [],
   "source": [
    "# Solution goes here\n",
    "bikeshare = make_system()"
   ]
  },
  {
   "cell_type": "markdown",
   "metadata": {},
   "source": [
    "## Running simulations"
   ]
  },
  {
   "cell_type": "markdown",
   "metadata": {},
   "source": [
    "Before we go on, I want to update `run_steps` so it doesn't always plot the results.  The new version takes an additional parameter, `plot_flag`, to indicate whether we want to plot.\n",
    "\n",
    "\"flag\" is a conventional name for a boolean variable that indicates whether or not a condition is true.\n",
    "\n",
    "This version of `run_steps` works even if `num_steps` is not an integer.  It uses the `int` function to round down.  See https://docs.python.org/3/library/functions.html#int"
   ]
  },
  {
   "cell_type": "code",
   "execution_count": 79,
   "metadata": {
    "collapsed": true
   },
   "outputs": [],
   "source": [
    "def run_steps(system, num_steps=1, p1=0.5, p2=0.5, plot_flag=True):\n",
    "    \"\"\"Simulate the given number of time steps.\n",
    "    \n",
    "    `num_steps` should be an integer; if not, it gets rounded down.\n",
    "    \n",
    "    system: bikeshare System object\n",
    "    num_steps: number of time steps\n",
    "    p1: probability of an Olin->Wellesley customer arrival\n",
    "    p2: probability of a Wellesley->Olin customer arrival\n",
    "    plot_flag: boolean, whether to plot\n",
    "    \"\"\"\n",
    "    for i in range(int(num_steps)):\n",
    "        step(system, p1, p2)\n",
    "        if plot_flag:\n",
    "            plot_system(system)"
   ]
  },
  {
   "cell_type": "markdown",
   "metadata": {},
   "source": [
    "Now when we run a simulation, we can choose not to plot the results:"
   ]
  },
  {
   "cell_type": "code",
   "execution_count": 80,
   "metadata": {
    "collapsed": true
   },
   "outputs": [],
   "source": [
    "bikeshare = System(olin=10, wellesley=2, \n",
    "                   olin_empty=0, wellesley_empty=0)\n",
    "run_steps(bikeshare, 60, 0.4, 0.2, plot_flag=False)"
   ]
  },
  {
   "cell_type": "markdown",
   "metadata": {},
   "source": [
    "But after the simulation, we can still read the metrics."
   ]
  },
  {
   "cell_type": "code",
   "execution_count": 81,
   "metadata": {},
   "outputs": [
    {
     "data": {
      "text/plain": [
       "1"
      ]
     },
     "execution_count": 81,
     "metadata": {},
     "output_type": "execute_result"
    }
   ],
   "source": [
    "bikeshare.olin_empty"
   ]
  },
  {
   "cell_type": "markdown",
   "metadata": {},
   "source": [
    "Let's wrap all that in a function."
   ]
  },
  {
   "cell_type": "code",
   "execution_count": 82,
   "metadata": {
    "collapsed": true
   },
   "outputs": [],
   "source": [
    "def run_simulation():\n",
    "    system = System(olin=10, wellesley=2, \n",
    "                    olin_empty=0, wellesley_empty=0)\n",
    "    run_steps(system, 60, 0.4, 0.2, plot_flag=False)\n",
    "    return system"
   ]
  },
  {
   "cell_type": "markdown",
   "metadata": {},
   "source": [
    "And test it."
   ]
  },
  {
   "cell_type": "code",
   "execution_count": 83,
   "metadata": {
    "collapsed": true
   },
   "outputs": [],
   "source": [
    "system = run_simulation()"
   ]
  },
  {
   "cell_type": "code",
   "execution_count": 84,
   "metadata": {},
   "outputs": [
    {
     "name": "stdout",
     "output_type": "stream",
     "text": [
      "4 0\n"
     ]
    }
   ],
   "source": [
    "print(system.olin_empty, system.wellesley_empty)"
   ]
  },
  {
   "cell_type": "markdown",
   "metadata": {},
   "source": [
    "If we generalize `run_simulation` to take `p1` and `p2`, we can use it to run simulations with a range of values for the parameters."
   ]
  },
  {
   "cell_type": "code",
   "execution_count": 152,
   "metadata": {
    "collapsed": true
   },
   "outputs": [],
   "source": [
    "def run_simulation(p1=0.4, p2=0.2):\n",
    "    bikeshare = System(olin=10, wellesley=2, \n",
    "                  olin_empty=0, wellesley_empty=0)\n",
    "    run_steps(bikeshare, 60, p1, p2, plot_flag=False)\n",
    "    return bikeshare"
   ]
  },
  {
   "cell_type": "markdown",
   "metadata": {},
   "source": [
    "When `p1` is small, we probably don't run out of bikes at Olin."
   ]
  },
  {
   "cell_type": "code",
   "execution_count": 153,
   "metadata": {},
   "outputs": [
    {
     "data": {
      "text/plain": [
       "0"
      ]
     },
     "execution_count": 153,
     "metadata": {},
     "output_type": "execute_result"
    }
   ],
   "source": [
    "system = run_simulation(p1=0.2)\n",
    "system.olin_empty"
   ]
  },
  {
   "cell_type": "markdown",
   "metadata": {},
   "source": [
    "When `p1` is large, we probably do."
   ]
  },
  {
   "cell_type": "code",
   "execution_count": 154,
   "metadata": {},
   "outputs": [
    {
     "data": {
      "text/plain": [
       "24"
      ]
     },
     "execution_count": 154,
     "metadata": {},
     "output_type": "execute_result"
    }
   ],
   "source": [
    "system = run_simulation(p1=0.6)\n",
    "system.olin_empty"
   ]
  },
  {
   "cell_type": "markdown",
   "metadata": {
    "collapsed": true
   },
   "source": [
    "**Exercise:**  Write a version of `run_simulation` that takes all five model parameters as function parameters."
   ]
  },
  {
   "cell_type": "code",
   "execution_count": 226,
   "metadata": {
    "collapsed": true
   },
   "outputs": [],
   "source": [
    "# Solution goes here\n",
    "def run_simulation(num_steps = 60, p1=0.4, p2=0.2, olin = 10, wellesley = 2):\n",
    "    system = System(olin=olin, wellesley=wellesley, \n",
    "                  olin_empty=0, wellesley_empty=0)\n",
    "    run_steps(system, num_steps, p1, p2, plot_flag = False)\n",
    "    return system"
   ]
  },
  {
   "cell_type": "code",
   "execution_count": 158,
   "metadata": {},
   "outputs": [
    {
     "data": {
      "text/html": [
       "<div>\n",
       "<style>\n",
       "    .dataframe thead tr:only-child th {\n",
       "        text-align: right;\n",
       "    }\n",
       "\n",
       "    .dataframe thead th {\n",
       "        text-align: left;\n",
       "    }\n",
       "\n",
       "    .dataframe tbody tr th {\n",
       "        vertical-align: top;\n",
       "    }\n",
       "</style>\n",
       "<table border=\"1\" class=\"dataframe\">\n",
       "  <thead>\n",
       "    <tr style=\"text-align: right;\">\n",
       "      <th></th>\n",
       "      <th>value</th>\n",
       "    </tr>\n",
       "  </thead>\n",
       "  <tbody>\n",
       "    <tr>\n",
       "      <th>olin</th>\n",
       "      <td>5</td>\n",
       "    </tr>\n",
       "    <tr>\n",
       "      <th>wellesley</th>\n",
       "      <td>20</td>\n",
       "    </tr>\n",
       "    <tr>\n",
       "      <th>olin_empty</th>\n",
       "      <td>0</td>\n",
       "    </tr>\n",
       "    <tr>\n",
       "      <th>wellesley_empty</th>\n",
       "      <td>0</td>\n",
       "    </tr>\n",
       "  </tbody>\n",
       "</table>\n",
       "</div>"
      ],
      "text/plain": [
       "olin                5\n",
       "wellesley          20\n",
       "olin_empty          0\n",
       "wellesley_empty     0\n",
       "dtype: int64"
      ]
     },
     "execution_count": 158,
     "metadata": {},
     "output_type": "execute_result"
    },
    {
     "data": {
      "image/png": "[encoded data removed]",
      "text/plain": [
       "<matplotlib.figure.Figure at 0x27355d7ee10>"
      ]
     },
     "metadata": {},
     "output_type": "display_data"
    }
   ],
   "source": [
    "# Solution goes here\n",
    "bikeshare = System(olin=10, wellesley=2, \n",
    "                  olin_empty=0, wellesley_empty=0)\n",
    "run_simulation(80, .6,.5,20,5)"
   ]
  },
  {
   "cell_type": "markdown",
   "metadata": {
    "collapsed": true
   },
   "source": [
    "## More for loops"
   ]
  },
  {
   "cell_type": "markdown",
   "metadata": {},
   "source": [
    "`linspace` creates a NumPy array of equally spaced numbers."
   ]
  },
  {
   "cell_type": "code",
   "execution_count": 159,
   "metadata": {},
   "outputs": [
    {
     "data": {
      "text/plain": [
       "array([ 0.  ,  0.25,  0.5 ,  0.75,  1.  ])"
      ]
     },
     "execution_count": 159,
     "metadata": {},
     "output_type": "execute_result"
    }
   ],
   "source": [
    "p1_array = linspace(start=0, stop=1, num=5)\n",
    "p1_array"
   ]
  },
  {
   "cell_type": "markdown",
   "metadata": {},
   "source": [
    "We can use an array in a `for` loop, like this:"
   ]
  },
  {
   "cell_type": "code",
   "execution_count": 160,
   "metadata": {},
   "outputs": [
    {
     "name": "stdout",
     "output_type": "stream",
     "text": [
      "0.0\n",
      "0.25\n",
      "0.5\n",
      "0.75\n",
      "1.0\n"
     ]
    }
   ],
   "source": [
    "for p1 in p1_array:\n",
    "    print(p1)"
   ]
  },
  {
   "cell_type": "markdown",
   "metadata": {},
   "source": [
    "This will come in handy in the next section."
   ]
  },
  {
   "cell_type": "markdown",
   "metadata": {},
   "source": [
    "**Exercise:** The function `linspace` is part of NumPy.  [You can read the documentation here](https://docs.scipy.org/doc/numpy/reference/generated/numpy.linspace.html).\n",
    "\n",
    "Use `linspace` to make an array of 10 equally spaced numbers from 1 to 10 (including both)."
   ]
  },
  {
   "cell_type": "code",
   "execution_count": 161,
   "metadata": {},
   "outputs": [
    {
     "data": {
      "text/plain": [
       "array([  1.,   2.,   3.,   4.,   5.,   6.,   7.,   8.,   9.,  10.])"
      ]
     },
     "execution_count": 161,
     "metadata": {},
     "output_type": "execute_result"
    }
   ],
   "source": [
    "# Solution goes here\n",
    "linspace(1,10,10)"
   ]
  },
  {
   "cell_type": "markdown",
   "metadata": {},
   "source": [
    "**Exercise:** The `modsim` library provides a related function called `linrange`.  You can view the documentation by running the following cell:"
   ]
  },
  {
   "cell_type": "code",
   "execution_count": 162,
   "metadata": {},
   "outputs": [
    {
     "name": "stdout",
     "output_type": "stream",
     "text": [
      "Help on function linrange in module modsim:\n",
      "\n",
      "linrange(start=0, stop=None, step=1, **kwargs)\n",
      "    Returns an array of evenly-spaced values in the interval [start, stop].\n",
      "    \n",
      "    This function works best if the space between start and stop\n",
      "    is divisible by step; otherwise the results might be surprising.\n",
      "    \n",
      "    By default, the last value in the array is `stop` (at least approximately).\n",
      "    If you provide the keyword argument `endpoint=False`, the last value\n",
      "    in the array is `stop-step`. \n",
      "    \n",
      "    start: first value\n",
      "    stop: last value\n",
      "    step: space between values\n",
      "    \n",
      "    Also accepts the same keyword arguments as np.linspace.  See\n",
      "    https://docs.scipy.org/doc/numpy/reference/generated/numpy.linspace.html\n",
      "    \n",
      "    returns: array or Quantity\n",
      "\n"
     ]
    }
   ],
   "source": [
    "help(linrange)"
   ]
  },
  {
   "cell_type": "markdown",
   "metadata": {},
   "source": [
    "Use `linrange` to make an array of numbers from 1 to 11 with a step size of 2."
   ]
  },
  {
   "cell_type": "code",
   "execution_count": 163,
   "metadata": {},
   "outputs": [
    {
     "data": {
      "text/plain": [
       "array([  1.,   3.,   5.,   7.,   9.,  11.])"
      ]
     },
     "execution_count": 163,
     "metadata": {},
     "output_type": "execute_result"
    }
   ],
   "source": [
    "# Solution goes here\n",
    "linrange(1,11,2)"
   ]
  },
  {
   "cell_type": "markdown",
   "metadata": {
    "collapsed": true
   },
   "source": [
    "## Sweeping parameters"
   ]
  },
  {
   "cell_type": "markdown",
   "metadata": {},
   "source": [
    "The following example runs simulations with a range of values for `p1`; after each simulation, it prints the number of unhappy customers at the Olin station:"
   ]
  },
  {
   "cell_type": "code",
   "execution_count": 164,
   "metadata": {},
   "outputs": [
    {
     "data": {
      "text/plain": [
       "array([ 0. ,  0.1,  0.2,  0.3,  0.4,  0.5,  0.6,  0.7,  0.8,  0.9,  1. ])"
      ]
     },
     "execution_count": 164,
     "metadata": {},
     "output_type": "execute_result"
    }
   ],
   "source": [
    "p1_array = linspace(0, 1, 11)\n",
    "p1_array"
   ]
  },
  {
   "cell_type": "code",
   "execution_count": 170,
   "metadata": {},
   "outputs": [
    {
     "name": "stdout",
     "output_type": "stream",
     "text": [
      "0.0 0\n",
      "0.1 0\n",
      "0.2 0\n",
      "0.3 0\n",
      "0.4 14\n",
      "0.5 8\n",
      "0.6 19\n",
      "0.7 11\n",
      "0.8 31\n",
      "0.9 28\n",
      "1.0 37\n"
     ]
    },
    {
     "data": {
      "image/png": "[encoded data removed]",
      "text/plain": [
       "<matplotlib.figure.Figure at 0x273563dc470>"
      ]
     },
     "metadata": {},
     "output_type": "display_data"
    },
    {
     "data": {
      "image/png": "[encoded data removed]",
      "text/plain": [
       "<matplotlib.figure.Figure at 0x273564807b8>"
      ]
     },
     "metadata": {},
     "output_type": "display_data"
    },
    {
     "data": {
      "image/png": "[encoded data removed]",
      "text/plain": [
       "<matplotlib.figure.Figure at 0x273564870f0>"
      ]
     },
     "metadata": {},
     "output_type": "display_data"
    },
    {
     "data": {
      "image/png": "[encoded data removed]",
      "text/plain": [
       "<matplotlib.figure.Figure at 0x27356501940>"
      ]
     },
     "metadata": {},
     "output_type": "display_data"
    },
    {
     "data": {
      "image/png": "[encoded data removed]",
      "text/plain": [
       "<matplotlib.figure.Figure at 0x273575186a0>"
      ]
     },
     "metadata": {},
     "output_type": "display_data"
    },
    {
     "data": {
      "image/png": "[encoded data removed]",
      "text/plain": [
       "<matplotlib.figure.Figure at 0x2735761e4e0>"
      ]
     },
     "metadata": {},
     "output_type": "display_data"
    },
    {
     "data": {
      "image/png": "[encoded data removed]",
      "text/plain": [
       "<matplotlib.figure.Figure at 0x27357770e48>"
      ]
     },
     "metadata": {},
     "output_type": "display_data"
    },
    {
     "data": {
      "image/png": "[encoded data removed]",
      "text/plain": [
       "<matplotlib.figure.Figure at 0x27357780be0>"
      ]
     },
     "metadata": {},
     "output_type": "display_data"
    },
    {
     "data": {
      "image/png": "[encoded data removed]",
      "text/plain": [
       "<matplotlib.figure.Figure at 0x27355dbde48>"
      ]
     },
     "metadata": {},
     "output_type": "display_data"
    },
    {
     "data": {
      "image/png": "[encoded data removed]",
      "text/plain": [
       "<matplotlib.figure.Figure at 0x273578b50f0>"
      ]
     },
     "metadata": {},
     "output_type": "display_data"
    },
    {
     "data": {
      "image/png": "[encoded data removed]",
      "text/plain": [
       "<matplotlib.figure.Figure at 0x27357971e48>"
      ]
     },
     "metadata": {},
     "output_type": "display_data"
    }
   ],
   "source": [
    "for p1 in p1_array:\n",
    "    system = run_simulation(p1=p1)\n",
    "    print(p1, system.olin_empty)"
   ]
  },
  {
   "cell_type": "markdown",
   "metadata": {},
   "source": [
    "Now we can do the same thing, but plotting the results instead of printing them.\n",
    "\n"
   ]
  },
  {
   "cell_type": "code",
   "execution_count": 145,
   "metadata": {},
   "outputs": [
    {
     "data": {
      "image/png": "[encoded data removed]",
      "text/plain": [
       "<matplotlib.figure.Figure at 0x27355d1ff60>"
      ]
     },
     "metadata": {},
     "output_type": "display_data"
    }
   ],
   "source": [
    "newfig()\n",
    "for p1 in p1_array:\n",
    "    system = run_simulation(p1=p1)\n",
    "    plot(p1, system.olin_empty, 'rs', label='olin')"
   ]
  },
  {
   "cell_type": "markdown",
   "metadata": {},
   "source": [
    "As always, we should decorate the figure.  This version of `decorate_bikeshare` takes `xlabel` as a parameter, for reasons you will see soon."
   ]
  },
  {
   "cell_type": "code",
   "execution_count": 146,
   "metadata": {
    "collapsed": true
   },
   "outputs": [],
   "source": [
    "def decorate_bikeshare(xlabel):\n",
    "    decorate(title='Olin-Wellesley Bikeshare',\n",
    "             xlabel=xlabel, \n",
    "             ylabel='Number of unhappy customers')"
   ]
  },
  {
   "cell_type": "code",
   "execution_count": 147,
   "metadata": {},
   "outputs": [
    {
     "name": "stderr",
     "output_type": "stream",
     "text": [
      "C:\\ProgramData\\Miniconda3\\lib\\site-packages\\matplotlib\\axes\\_axes.py:545: UserWarning: No labelled objects found. Use label='...' kwarg on individual plots.\n",
      "  warnings.warn(\"No labelled objects found. \"\n"
     ]
    },
    {
     "data": {
      "image/png": "[encoded data removed]",
      "text/plain": [
       "<matplotlib.figure.Figure at 0x27355db6ac8>"
      ]
     },
     "metadata": {},
     "output_type": "display_data"
    }
   ],
   "source": [
    "decorate_bikeshare(xlabel='Arrival rate at Olin (p1 in customers/min)')"
   ]
  },
  {
   "cell_type": "markdown",
   "metadata": {},
   "source": [
    "**Exercise:** Wrap this code in a function named `parameter_sweep` that takes an array called `p1_array` as a parameter.  It should create a new figure, run a simulation for each value of `p1` in `p1_array`, and plot the results.\n",
    "\n",
    "Once you have the function working, modify it so it also plots the number of unhappy customers at Wellesley.  Looking at the plot, can you estimate a range of values for `p1` that minimizes the total number of unhappy customers?"
   ]
  },
  {
   "cell_type": "code",
   "execution_count": 148,
   "metadata": {},
   "outputs": [
    {
     "data": {
      "image/png": "[encoded data removed]",
      "text/plain": [
       "<matplotlib.figure.Figure at 0x27355ec4da0>"
      ]
     },
     "metadata": {},
     "output_type": "display_data"
    }
   ],
   "source": [
    "# Solution goes here\n",
    "def parameter_sweep(p1_array):\n",
    "    \"\"\"\"\"\"\n",
    "    newfig()\n",
    "    for p1 in p1_array:\n",
    "        system = run_simulation(p1=p1)\n",
    "        plot(p1, system.olin_empty, 'rs', label='olin')\n",
    "        plot(p1, system.wellesley_empty, 'bo', label = 'wellesley')\n",
    "    decorate_bikeshare(xlabel='Arrival rate at Olin (p1 in customers/min)')\n",
    "parameter_sweep(linspace(0,1,11))"
   ]
  },
  {
   "cell_type": "markdown",
   "metadata": {},
   "source": []
  },
  {
   "cell_type": "code",
   "execution_count": 115,
   "metadata": {},
   "outputs": [],
   "source": [
    "# Solution goes here\n"
   ]
  },
  {
   "cell_type": "markdown",
   "metadata": {
    "collapsed": true
   },
   "source": [
    "**Exercise:** Write a function called `parameter_sweep2` that runs simulations with `p1=0.2` and a range of values for `p2`.\n",
    "\n",
    "Note: If you run `parameter_sweep2` a few times without calling `newfig`, you can plot multiple runs on the same axes, which will give you a sense of how much random variation there is from one run to the next. "
   ]
  },
  {
   "cell_type": "code",
   "execution_count": 126,
   "metadata": {
    "collapsed": true
   },
   "outputs": [],
   "source": [
    "# Solution goes here\n",
    "def parameter_sweep2(p2_array):\n",
    "    for p2 in p2_array:\n",
    "        system = run_simulation(p1 = .2,p2=p2)\n",
    "        plot(p2, system.olin_empty, 'rs', label='olin')\n",
    "        plot(p2, system.wellesley_empty, 'bo', label = 'wellesley')\n",
    "    decorate_bikeshare(xlabel='Arrival rate at Wellesley (p2 in customers/min)')"
   ]
  },
  {
   "cell_type": "code",
   "execution_count": 128,
   "metadata": {},
   "outputs": [
    {
     "data": {
      "image/png": "[encoded data removed]",
      "text/plain": [
       "<matplotlib.figure.Figure at 0x273547390b8>"
      ]
     },
     "metadata": {},
     "output_type": "display_data"
    }
   ],
   "source": [
    "# Solution goes here\n",
    "parameter_sweep2(linspace(0,1,11))"
   ]
  },
  {
   "cell_type": "code",
   "execution_count": 129,
   "metadata": {},
   "outputs": [
    {
     "data": {
      "image/png": "[encoded data removed]",
      "text/plain": [
       "<matplotlib.figure.Figure at 0x27354899d30>"
      ]
     },
     "metadata": {},
     "output_type": "display_data"
    }
   ],
   "source": [
    "# Solution goes here\n",
    "parameter_sweep2(linspace(0,1,11))\n",
    "parameter_sweep2(linspace(0,1,11))\n",
    "parameter_sweep2(linspace(0,1,11))"
   ]
  },
  {
   "cell_type": "markdown",
   "metadata": {},
   "source": [
    "**Exercise:** Hold `p1=0.4` and `p2=0.2`, and sweep a range of values for `num_steps`.\n",
    "\n",
    "Hint: You will need a version of `run_simulation` that takes `num_steps` as a parameter.\n",
    "\n",
    "Hint: Because `num_steps` is supposed to be an integer use `range` rather than `linrange`."
   ]
  },
  {
   "cell_type": "code",
   "execution_count": 133,
   "metadata": {
    "collapsed": true
   },
   "outputs": [],
   "source": [
    "# Solution goes here\n",
    "def parameter_sweep3(num_steps_array):\n",
    "    for num_steps in num_steps_array:\n",
    "        system = run_simulation(p1 = .4,p2=.2,num_steps = num_steps)\n",
    "        plot(num_steps, system.olin_empty, 'rs', label='olin')\n",
    "        plot(num_steps, system.wellesley_empty, 'bo', label = 'wellesley')\n",
    "    decorate_bikeshare(xlabel='Time (num_steps in min)')"
   ]
  },
  {
   "cell_type": "code",
   "execution_count": 135,
   "metadata": {},
   "outputs": [
    {
     "data": {
      "image/png": "[encoded data removed]",
      "text/plain": [
       "<matplotlib.figure.Figure at 0x27354babb00>"
      ]
     },
     "metadata": {},
     "output_type": "display_data"
    }
   ],
   "source": [
    "# Solution goes here\n",
    "parameter_sweep3(range(0,120,5))"
   ]
  },
  {
   "cell_type": "code",
   "execution_count": 92,
   "metadata": {
    "collapsed": true,
    "scrolled": false
   },
   "outputs": [],
   "source": [
    "# Solution goes here"
   ]
  },
  {
   "cell_type": "markdown",
   "metadata": {
    "collapsed": true
   },
   "source": [
    "**Exercise:** The code below runs a simulation with the same parameters 10 times and computes the average number of unhappy customers.\n",
    "\n",
    "1.  Wrap this code in a function called `run_simulations` that takes `num_runs` as a parameter.\n",
    "\n",
    "2.  Test `run_simulations`, and increase `num_runs` until the results are reasonably consistent from one run to the next.\n",
    "\n",
    "3.  Generalize `run_simulations` so it also takes the initial value of `olin` as a parameter.\n",
    "\n",
    "4.  Run the generalized version with `olin=12`.  How much do the two extra bikes decrease the average number of unhappy customers.\n",
    "\n",
    "5.  Make a plot that shows the average number of unhappy customers as a function of the initial number of bikes at Olin."
   ]
  },
  {
   "cell_type": "code",
   "execution_count": 93,
   "metadata": {
    "collapsed": true
   },
   "outputs": [],
   "source": [
    "num_runs = 10\n",
    "total = 0\n",
    "for i in range(num_runs):\n",
    "    system = run_simulation(p1=0.4, p2=0.2, olin=10, wellesley=2, num_steps=60)\n",
    "    total += system.olin_empty + system.wellesley_empty\n",
    "total / num_runs"
   ]
  },
  {
   "cell_type": "code",
   "execution_count": 229,
   "metadata": {
    "collapsed": true
   },
   "outputs": [],
   "source": [
    "# Solution goes here\n",
    "def run_simulations(num_runs = 10, olin = 10):\n",
    "    total = 0\n",
    "    for i in range(num_runs):\n",
    "        system = run_simulation(p1=0.4, p2=0.2, olin=olin, wellesley=2, num_steps=60)\n",
    "        total += system.olin_empty + system.wellesley_empty\n",
    "    return total / num_runs"
   ]
  },
  {
   "cell_type": "code",
   "execution_count": 234,
   "metadata": {},
   "outputs": [
    {
     "name": "stdout",
     "output_type": "stream",
     "text": [
      "3.0\n"
     ]
    }
   ],
   "source": [
    "# Solution goes here\n",
    "print(run_simulations(10))"
   ]
  },
  {
   "cell_type": "code",
   "execution_count": 238,
   "metadata": {},
   "outputs": [
    {
     "name": "stdout",
     "output_type": "stream",
     "text": [
      "3.6025\n"
     ]
    }
   ],
   "source": [
    "# Solution goes here\n",
    "print(run_simulations(400))"
   ]
  },
  {
   "cell_type": "code",
   "execution_count": 232,
   "metadata": {
    "scrolled": true
   },
   "outputs": [
    {
     "name": "stdout",
     "output_type": "stream",
     "text": [
      "2.44333333333\n"
     ]
    }
   ],
   "source": [
    "# Solution goes here\n",
    "print(run_simulations(300,12))"
   ]
  },
  {
   "cell_type": "code",
   "execution_count": 239,
   "metadata": {},
   "outputs": [
    {
     "data": {
      "image/png": "[encoded data removed]",
      "text/plain": [
       "<matplotlib.figure.Figure at 0x273463b1518>"
      ]
     },
     "metadata": {},
     "output_type": "display_data"
    }
   ],
   "source": [
    "# Solution goes here\n",
    "olin_array = range(5,20,1)\n",
    "for olin in olin_array:\n",
    "    unhappy_customers = run_simulations(400, olin = olin)\n",
    "    plot(olin, unhappy_customers, 'rs', label='olin')\n",
    "decorate_bikeshare(xlabel='Initial Bikes at Olin')"
   ]
  },
  {
   "cell_type": "code",
   "execution_count": null,
   "metadata": {},
   "outputs": [],
   "source": []
  },
  {
   "cell_type": "code",
   "execution_count": null,
   "metadata": {
    "collapsed": true
   },
   "outputs": [],
   "source": []
  }
 ],
 "metadata": {
  "kernelspec": {
   "display_name": "Python 3",
   "language": "python",
   "name": "python3"
  },
  "language_info": {
   "codemirror_mode": {
    "name": "ipython",
    "version": 3
   },
   "file_extension": ".py",
   "mimetype": "text/x-python",
   "name": "python",
   "nbconvert_exporter": "python",
   "pygments_lexer": "ipython3",
   "version": "3.6.1"
  }
 },
 "nbformat": 4,
 "nbformat_minor": 1
}
